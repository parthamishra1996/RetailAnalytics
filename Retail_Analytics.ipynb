{
 "cells": [
  {
   "cell_type": "code",
   "execution_count": 1,
   "metadata": {},
   "outputs": [],
   "source": [
    "# # Library includes\n",
    "\n",
    "# In[1]:\n",
    "\n",
    "\n",
    "import numpy as np\n",
    "import pandas as pd\n",
    "import sys\n",
    "import seaborn as sns\n",
    "get_ipython().magic(u'matplotlib inline')\n",
    "import matplotlib.pyplot as plt"
   ]
  },
  {
   "cell_type": "code",
   "execution_count": 2,
   "metadata": {},
   "outputs": [],
   "source": [
    "path1 = '/home/partha/Desktop/MTP/Data/'\n",
    "\n",
    "\n",
    "# # Read data\n",
    "\n",
    "# In[3]:\n",
    "\n",
    "\n",
    "category_tree = pd.read_csv(path1 + 'category_tree.csv')\n",
    "events = pd.read_csv(path1 + 'events.csv')\n",
    "item_properties_part1 = pd.read_csv(path1 + 'item_properties_part1.csv')\n",
    "item_properties_part2 = pd.read_csv(path1 + 'item_properties_part2.csv')"
   ]
  },
  {
   "cell_type": "code",
   "execution_count": 59,
   "metadata": {},
   "outputs": [
    {
     "data": {
      "text/plain": [
       "(69332, 22457)"
      ]
     },
     "execution_count": 59,
     "metadata": {},
     "output_type": "execute_result"
    }
   ],
   "source": []
  },
  {
   "cell_type": "code",
   "execution_count": 57,
   "metadata": {},
   "outputs": [
    {
     "data": {
      "text/html": [
       "<div>\n",
       "<style>\n",
       "    .dataframe thead tr:only-child th {\n",
       "        text-align: right;\n",
       "    }\n",
       "\n",
       "    .dataframe thead th {\n",
       "        text-align: left;\n",
       "    }\n",
       "\n",
       "    .dataframe tbody tr th {\n",
       "        vertical-align: top;\n",
       "    }\n",
       "</style>\n",
       "<table border=\"1\" class=\"dataframe\">\n",
       "  <thead>\n",
       "    <tr style=\"text-align: right;\">\n",
       "      <th></th>\n",
       "      <th>timestamp</th>\n",
       "      <th>visitorid</th>\n",
       "      <th>event</th>\n",
       "      <th>itemid</th>\n",
       "      <th>transactionid</th>\n",
       "    </tr>\n",
       "  </thead>\n",
       "  <tbody>\n",
       "    <tr>\n",
       "      <th>17290</th>\n",
       "      <td>1433184061334</td>\n",
       "      <td>350566</td>\n",
       "      <td>view</td>\n",
       "      <td>54058</td>\n",
       "      <td>NaN</td>\n",
       "    </tr>\n",
       "    <tr>\n",
       "      <th>9538</th>\n",
       "      <td>1433184109097</td>\n",
       "      <td>350566</td>\n",
       "      <td>addtocart</td>\n",
       "      <td>54058</td>\n",
       "      <td>NaN</td>\n",
       "    </tr>\n",
       "    <tr>\n",
       "      <th>1214</th>\n",
       "      <td>1433184261340</td>\n",
       "      <td>350566</td>\n",
       "      <td>transaction</td>\n",
       "      <td>54058</td>\n",
       "      <td>8796.0</td>\n",
       "    </tr>\n",
       "  </tbody>\n",
       "</table>\n",
       "</div>"
      ],
      "text/plain": [
       "           timestamp  visitorid        event  itemid  transactionid\n",
       "17290  1433184061334     350566         view   54058            NaN\n",
       "9538   1433184109097     350566    addtocart   54058            NaN\n",
       "1214   1433184261340     350566  transaction   54058         8796.0"
      ]
     },
     "execution_count": 57,
     "metadata": {},
     "output_type": "execute_result"
    }
   ],
   "source": [
    "events[(events.itemid == 54058) & (events.visitorid == 350566)].sort_values([\"timestamp\"])"
   ]
  },
  {
   "cell_type": "code",
   "execution_count": 3,
   "metadata": {},
   "outputs": [
    {
     "name": "stdout",
     "output_type": "stream",
     "text": [
      "<class 'pandas.core.frame.DataFrame'>\n",
      "RangeIndex: 10999999 entries, 0 to 10999998\n",
      "Data columns (total 4 columns):\n",
      "timestamp    int64\n",
      "itemid       int64\n",
      "property     object\n",
      "value        object\n",
      "dtypes: int64(2), object(2)\n",
      "memory usage: 335.7+ MB\n"
     ]
    }
   ],
   "source": [
    "item_properties_part1.info()"
   ]
  },
  {
   "cell_type": "code",
   "execution_count": 3,
   "metadata": {},
   "outputs": [],
   "source": [
    "item_properties_part1[[\"timestamp\",\"itemid\"]] = item_properties_part1[[\"timestamp\",\"itemid\"]].apply(pd.to_numeric, downcast=\"integer\")\n",
    "item_properties_part2[[\"timestamp\",\"itemid\"]] = item_properties_part2[[\"timestamp\",\"itemid\"]].apply(pd.to_numeric, downcast=\"integer\")\n",
    "\n",
    "\n",
    "# # Data Wrangling\n",
    "\n",
    "# In[7]:\n",
    "\n",
    "\n",
    "view_events = events[events[\"event\"] == \"view\"]\n",
    "addtocart_events = events[events[\"event\"] == \"addtocart\"]\n",
    "transaction_events = events[events[\"event\"] == \"transaction\"]"
   ]
  },
  {
   "cell_type": "code",
   "execution_count": 4,
   "metadata": {},
   "outputs": [],
   "source": [
    "item_properties = pd.concat([item_properties_part1, item_properties_part2], ignore_index=True)"
   ]
  },
  {
   "cell_type": "code",
   "execution_count": 5,
   "metadata": {},
   "outputs": [],
   "source": [
    "pd.concat([events[15:20], transaction_events[:2]], axis = 0).reset_index(drop=True)\n",
    "\n",
    "\n",
    "# # Exploratory analysis\n",
    "\n",
    "# In[10]:\n",
    "\n",
    "\n",
    "df = category_tree.groupby([\"parentid\"], as_index=False)\n",
    "#df.groups"
   ]
  },
  {
   "cell_type": "code",
   "execution_count": 8,
   "metadata": {},
   "outputs": [
    {
     "data": {
      "text/html": [
       "<div>\n",
       "<style>\n",
       "    .dataframe thead tr:only-child th {\n",
       "        text-align: right;\n",
       "    }\n",
       "\n",
       "    .dataframe thead th {\n",
       "        text-align: left;\n",
       "    }\n",
       "\n",
       "    .dataframe tbody tr th {\n",
       "        vertical-align: top;\n",
       "    }\n",
       "</style>\n",
       "<table border=\"1\" class=\"dataframe\">\n",
       "  <thead>\n",
       "    <tr style=\"text-align: right;\">\n",
       "      <th></th>\n",
       "      <th>categoryid</th>\n",
       "      <th>parentid</th>\n",
       "    </tr>\n",
       "  </thead>\n",
       "  <tbody>\n",
       "    <tr>\n",
       "      <th>0</th>\n",
       "      <td>1016</td>\n",
       "      <td>213.0</td>\n",
       "    </tr>\n",
       "    <tr>\n",
       "      <th>1</th>\n",
       "      <td>809</td>\n",
       "      <td>169.0</td>\n",
       "    </tr>\n",
       "    <tr>\n",
       "      <th>2</th>\n",
       "      <td>570</td>\n",
       "      <td>9.0</td>\n",
       "    </tr>\n",
       "    <tr>\n",
       "      <th>3</th>\n",
       "      <td>1691</td>\n",
       "      <td>885.0</td>\n",
       "    </tr>\n",
       "    <tr>\n",
       "      <th>4</th>\n",
       "      <td>536</td>\n",
       "      <td>1691.0</td>\n",
       "    </tr>\n",
       "  </tbody>\n",
       "</table>\n",
       "</div>"
      ],
      "text/plain": [
       "   categoryid  parentid\n",
       "0        1016     213.0\n",
       "1         809     169.0\n",
       "2         570       9.0\n",
       "3        1691     885.0\n",
       "4         536    1691.0"
      ]
     },
     "execution_count": 8,
     "metadata": {},
     "output_type": "execute_result"
    }
   ],
   "source": [
    "category_tree.head()"
   ]
  },
  {
   "cell_type": "code",
   "execution_count": 8,
   "metadata": {},
   "outputs": [
    {
     "data": {
      "text/plain": [
       "array([ 231,  791, 1490,  431,  755,  378, 1579, 1394,  659, 1057,  859,\n",
       "        803,  250, 1452, 1182, 1692, 1600, 1482, 1224, 1532,  395,  653,\n",
       "        140, 1698,  679])"
      ]
     },
     "execution_count": 8,
     "metadata": {},
     "output_type": "execute_result"
    }
   ],
   "source": [
    "root_nodes = category_tree[np.isnan(category_tree[\"parentid\"])].categoryid.values\n",
    "root_nodes"
   ]
  },
  {
   "cell_type": "code",
   "execution_count": 9,
   "metadata": {},
   "outputs": [
    {
     "data": {
      "text/plain": [
       "1669"
      ]
     },
     "execution_count": 9,
     "metadata": {},
     "output_type": "execute_result"
    }
   ],
   "source": [
    "category_tree.categoryid.nunique()"
   ]
  },
  {
   "cell_type": "code",
   "execution_count": 7,
   "metadata": {},
   "outputs": [
    {
     "data": {
      "text/html": [
       "<div>\n",
       "<style>\n",
       "    .dataframe thead tr:only-child th {\n",
       "        text-align: right;\n",
       "    }\n",
       "\n",
       "    .dataframe thead th {\n",
       "        text-align: left;\n",
       "    }\n",
       "\n",
       "    .dataframe tbody tr th {\n",
       "        vertical-align: top;\n",
       "    }\n",
       "</style>\n",
       "<table border=\"1\" class=\"dataframe\">\n",
       "  <thead>\n",
       "    <tr style=\"text-align: right;\">\n",
       "      <th></th>\n",
       "      <th>visitorid</th>\n",
       "      <th>Count</th>\n",
       "    </tr>\n",
       "  </thead>\n",
       "  <tbody>\n",
       "    <tr>\n",
       "      <th>count</th>\n",
       "      <td>1.171900e+04</td>\n",
       "      <td>11719.000000</td>\n",
       "    </tr>\n",
       "    <tr>\n",
       "      <th>mean</th>\n",
       "      <td>7.099856e+05</td>\n",
       "      <td>1.916290</td>\n",
       "    </tr>\n",
       "    <tr>\n",
       "      <th>std</th>\n",
       "      <td>4.058287e+05</td>\n",
       "      <td>8.850529</td>\n",
       "    </tr>\n",
       "    <tr>\n",
       "      <th>min</th>\n",
       "      <td>1.720000e+02</td>\n",
       "      <td>1.000000</td>\n",
       "    </tr>\n",
       "    <tr>\n",
       "      <th>50%</th>\n",
       "      <td>7.183140e+05</td>\n",
       "      <td>1.000000</td>\n",
       "    </tr>\n",
       "    <tr>\n",
       "      <th>75%</th>\n",
       "      <td>1.062739e+06</td>\n",
       "      <td>1.000000</td>\n",
       "    </tr>\n",
       "    <tr>\n",
       "      <th>80%</th>\n",
       "      <td>1.130465e+06</td>\n",
       "      <td>2.000000</td>\n",
       "    </tr>\n",
       "    <tr>\n",
       "      <th>85%</th>\n",
       "      <td>1.197018e+06</td>\n",
       "      <td>2.000000</td>\n",
       "    </tr>\n",
       "    <tr>\n",
       "      <th>90%</th>\n",
       "      <td>1.267586e+06</td>\n",
       "      <td>2.000000</td>\n",
       "    </tr>\n",
       "    <tr>\n",
       "      <th>95%</th>\n",
       "      <td>1.335906e+06</td>\n",
       "      <td>4.000000</td>\n",
       "    </tr>\n",
       "    <tr>\n",
       "      <th>99%</th>\n",
       "      <td>1.390177e+06</td>\n",
       "      <td>13.000000</td>\n",
       "    </tr>\n",
       "    <tr>\n",
       "      <th>max</th>\n",
       "      <td>1.407398e+06</td>\n",
       "      <td>559.000000</td>\n",
       "    </tr>\n",
       "  </tbody>\n",
       "</table>\n",
       "</div>"
      ],
      "text/plain": [
       "          visitorid         Count\n",
       "count  1.171900e+04  11719.000000\n",
       "mean   7.099856e+05      1.916290\n",
       "std    4.058287e+05      8.850529\n",
       "min    1.720000e+02      1.000000\n",
       "50%    7.183140e+05      1.000000\n",
       "75%    1.062739e+06      1.000000\n",
       "80%    1.130465e+06      2.000000\n",
       "85%    1.197018e+06      2.000000\n",
       "90%    1.267586e+06      2.000000\n",
       "95%    1.335906e+06      4.000000\n",
       "99%    1.390177e+06     13.000000\n",
       "max    1.407398e+06    559.000000"
      ]
     },
     "execution_count": 7,
     "metadata": {},
     "output_type": "execute_result"
    },
    {
     "data": {
      "image/png": "[encoded data removed]",
      "text/plain": [
       "<matplotlib.figure.Figure at 0x7f9d0b510f10>"
      ]
     },
     "metadata": {},
     "output_type": "display_data"
    }
   ],
   "source": [
    "category_tree.categoryid.count()\n",
    "\n",
    "\n",
    "# In[ ]:\n",
    "\n",
    "\n",
    "events.columns\n",
    "\n",
    "\n",
    "# In[ ]:\n",
    "\n",
    "\n",
    "#events.describe()\n",
    "\n",
    "\n",
    "# In[ ]:\n",
    "\n",
    "\n",
    "events.visitorid.nunique()\n",
    "\n",
    "\n",
    "# In[ ]:\n",
    "\n",
    "\n",
    "#item_properties.describe()\n",
    "\n",
    "\n",
    "# In[ ]:\n",
    "\n",
    "\n",
    "item_properties.head()\n",
    "\n",
    "\n",
    "# In[ ]:\n",
    "\n",
    "\n",
    "item_properties_part1.columns\n",
    "\n",
    "\n",
    "# In[ ]:\n",
    "\n",
    "\n",
    "item_properties.itemid.nunique()\n",
    "\n",
    "\n",
    "# In[ ]:\n",
    "\n",
    "\n",
    "item_properties.itemid.max()\n",
    "\n",
    "\n",
    "# In[ ]:\n",
    "\n",
    "\n",
    "item_ids = np.sort(item_properties.itemid.unique())\n",
    "\n",
    "\n",
    "# In[ ]:\n",
    "\n",
    "\n",
    "item_properties.timestamp.nunique()\n",
    "\n",
    "\n",
    "# In[ ]:\n",
    "\n",
    "\n",
    "item_properties.property.nunique()\n",
    "\n",
    "\n",
    "# In[ ]:\n",
    "\n",
    "\n",
    "item_properties[(item_properties.property == \"888\")]#.timestamp.nunique()#timestamp == 1431226800000)]'''(item_properties.itemid == 1)]# &'''\n",
    "\n",
    "\n",
    "# In[ ]:\n",
    "\n",
    "\n",
    "#test_df = item_properties.sort_values([\"timestamp\", \"itemid\"])\n",
    "#test_df_item1[test_df_item1[\"timestamp\"] == 1431226800000]\n",
    "#test_df\n",
    "\n",
    "\n",
    "# In[ ]:\n",
    "\n",
    "\n",
    "#item_properties_part1.sort_values([\"timestamp\", \"itemid\"])\n",
    "\n",
    "\n",
    "# In[ ]:\n",
    "\n",
    "\n",
    "#item_properties_part2.sort_values([\"timestamp\", \"itemid\"])\n",
    "\n",
    "\n",
    "# In[ ]:\n",
    "\n",
    "\n",
    "events[events.visitorid == 257597]\n",
    "\n",
    "\n",
    "# # Descriptive statistics\n",
    "\n",
    "# ### Events distribution\n",
    "\n",
    "# In[8]:\n",
    "\n",
    "\n",
    "event_frequency = events.groupby(\"event\", as_index=False).size().reset_index(name=\"Count\")\n",
    "event_frequency.plot.bar(x=\"event\", y=\"Count\");\n",
    "plt.title(\"Event Classification\");\n",
    "\n",
    "\n",
    "# Serves as validation of data relevant to field. Confirms with genral observation.\n",
    "\n",
    "# In[9]:\n",
    "\n",
    "\n",
    "event_percent = event_frequency\n",
    "event_percent[\"count%\"] = event_frequency.Count*100/event_frequency.Count.sum()\n",
    "event_percent = event_percent[[\"event\", \"count%\"]]\n",
    "event_percent\n",
    "\n",
    "\n",
    "# Clearly, majority of the visitors view products online, very few add items to cart for buying and even fewer customers actually do a transaction.\n",
    "\n",
    "# ### Customers who do transaction\n",
    "\n",
    "# In[10]:\n",
    "\n",
    "\n",
    "transaction_per_visitor = transaction_events.groupby(\"visitorid\", as_index=False).size().reset_index(name=\"Count\")\n",
    "transaction_per_visitor.describe(percentiles=[0.75, 0.80, 0.85, 0.9, 0.95, 0.99])"
   ]
  },
  {
   "cell_type": "code",
   "execution_count": 8,
   "metadata": {},
   "outputs": [],
   "source": [
    "transaction_groups = {}\n",
    "transaction_groups[\"first timers\"] = transaction_per_visitor[transaction_per_visitor.Count == 1].Count.count()\n",
    "transaction_groups[\"medium frequency\"] = transaction_per_visitor[(transaction_per_visitor.Count < 13) & (transaction_per_visitor.Count > 1)].Count.count()\n",
    "transaction_groups[\"high frequency\"] = transaction_per_visitor[transaction_per_visitor.Count >= 13].Count.count();\n",
    "\n",
    "#transaction_groups.values()"
   ]
  },
  {
   "cell_type": "code",
   "execution_count": 12,
   "metadata": {},
   "outputs": [
    {
     "data": {
      "image/png": "[encoded data removed]",
      "text/plain": [
       "<matplotlib.figure.Figure at 0x7f014cdd57d0>"
      ]
     },
     "metadata": {},
     "output_type": "display_data"
    }
   ],
   "source": [
    "sns.barplot(transaction_groups.keys(), transaction_groups.values());\n",
    "plt.title(\"Customer classification\");\n",
    "\n",
    "\n",
    "# Outlier removal\n",
    "\n",
    "# In[13]:\n",
    "\n",
    "\n",
    "high_frequency_group = transaction_per_visitor[transaction_per_visitor.Count >= 13]"
   ]
  },
  {
   "cell_type": "code",
   "execution_count": 13,
   "metadata": {},
   "outputs": [
    {
     "data": {
      "text/html": [
       "<div>\n",
       "<style>\n",
       "    .dataframe thead tr:only-child th {\n",
       "        text-align: right;\n",
       "    }\n",
       "\n",
       "    .dataframe thead th {\n",
       "        text-align: left;\n",
       "    }\n",
       "\n",
       "    .dataframe tbody tr th {\n",
       "        vertical-align: top;\n",
       "    }\n",
       "</style>\n",
       "<table border=\"1\" class=\"dataframe\">\n",
       "  <thead>\n",
       "    <tr style=\"text-align: right;\">\n",
       "      <th></th>\n",
       "      <th>timestamp</th>\n",
       "      <th>visitorid</th>\n",
       "      <th>event</th>\n",
       "      <th>itemid</th>\n",
       "      <th>transactionid</th>\n",
       "    </tr>\n",
       "  </thead>\n",
       "  <tbody>\n",
       "    <tr>\n",
       "      <th>1253698</th>\n",
       "      <td>1441598929376</td>\n",
       "      <td>42552</td>\n",
       "      <td>transaction</td>\n",
       "      <td>150426</td>\n",
       "      <td>539.0</td>\n",
       "    </tr>\n",
       "    <tr>\n",
       "      <th>1256422</th>\n",
       "      <td>1441598929188</td>\n",
       "      <td>42552</td>\n",
       "      <td>transaction</td>\n",
       "      <td>334401</td>\n",
       "      <td>539.0</td>\n",
       "    </tr>\n",
       "    <tr>\n",
       "      <th>1256438</th>\n",
       "      <td>1441598929360</td>\n",
       "      <td>42552</td>\n",
       "      <td>transaction</td>\n",
       "      <td>234207</td>\n",
       "      <td>539.0</td>\n",
       "    </tr>\n",
       "    <tr>\n",
       "      <th>1256456</th>\n",
       "      <td>1441598929610</td>\n",
       "      <td>42552</td>\n",
       "      <td>transaction</td>\n",
       "      <td>124006</td>\n",
       "      <td>539.0</td>\n",
       "    </tr>\n",
       "    <tr>\n",
       "      <th>1258592</th>\n",
       "      <td>1441598929360</td>\n",
       "      <td>42552</td>\n",
       "      <td>transaction</td>\n",
       "      <td>49673</td>\n",
       "      <td>539.0</td>\n",
       "    </tr>\n",
       "    <tr>\n",
       "      <th>1264348</th>\n",
       "      <td>1441598930345</td>\n",
       "      <td>42552</td>\n",
       "      <td>transaction</td>\n",
       "      <td>236862</td>\n",
       "      <td>539.0</td>\n",
       "    </tr>\n",
       "    <tr>\n",
       "      <th>1264353</th>\n",
       "      <td>1441598929423</td>\n",
       "      <td>42552</td>\n",
       "      <td>transaction</td>\n",
       "      <td>185616</td>\n",
       "      <td>539.0</td>\n",
       "    </tr>\n",
       "    <tr>\n",
       "      <th>1751926</th>\n",
       "      <td>1431880919961</td>\n",
       "      <td>42552</td>\n",
       "      <td>transaction</td>\n",
       "      <td>349273</td>\n",
       "      <td>9885.0</td>\n",
       "    </tr>\n",
       "    <tr>\n",
       "      <th>1759686</th>\n",
       "      <td>1431880920072</td>\n",
       "      <td>42552</td>\n",
       "      <td>transaction</td>\n",
       "      <td>302569</td>\n",
       "      <td>9885.0</td>\n",
       "    </tr>\n",
       "    <tr>\n",
       "      <th>1759689</th>\n",
       "      <td>1431880919961</td>\n",
       "      <td>42552</td>\n",
       "      <td>transaction</td>\n",
       "      <td>295266</td>\n",
       "      <td>9885.0</td>\n",
       "    </tr>\n",
       "    <tr>\n",
       "      <th>1759692</th>\n",
       "      <td>1431880919961</td>\n",
       "      <td>42552</td>\n",
       "      <td>transaction</td>\n",
       "      <td>176424</td>\n",
       "      <td>9885.0</td>\n",
       "    </tr>\n",
       "    <tr>\n",
       "      <th>1763392</th>\n",
       "      <td>1431880919961</td>\n",
       "      <td>42552</td>\n",
       "      <td>transaction</td>\n",
       "      <td>401076</td>\n",
       "      <td>9885.0</td>\n",
       "    </tr>\n",
       "    <tr>\n",
       "      <th>1763395</th>\n",
       "      <td>1431880919961</td>\n",
       "      <td>42552</td>\n",
       "      <td>transaction</td>\n",
       "      <td>412137</td>\n",
       "      <td>9885.0</td>\n",
       "    </tr>\n",
       "  </tbody>\n",
       "</table>\n",
       "</div>"
      ],
      "text/plain": [
       "             timestamp  visitorid        event  itemid  transactionid\n",
       "1253698  1441598929376      42552  transaction  150426          539.0\n",
       "1256422  1441598929188      42552  transaction  334401          539.0\n",
       "1256438  1441598929360      42552  transaction  234207          539.0\n",
       "1256456  1441598929610      42552  transaction  124006          539.0\n",
       "1258592  1441598929360      42552  transaction   49673          539.0\n",
       "1264348  1441598930345      42552  transaction  236862          539.0\n",
       "1264353  1441598929423      42552  transaction  185616          539.0\n",
       "1751926  1431880919961      42552  transaction  349273         9885.0\n",
       "1759686  1431880920072      42552  transaction  302569         9885.0\n",
       "1759689  1431880919961      42552  transaction  295266         9885.0\n",
       "1759692  1431880919961      42552  transaction  176424         9885.0\n",
       "1763392  1431880919961      42552  transaction  401076         9885.0\n",
       "1763395  1431880919961      42552  transaction  412137         9885.0"
      ]
     },
     "execution_count": 13,
     "metadata": {},
     "output_type": "execute_result"
    }
   ],
   "source": [
    "transaction_events[transaction_events.visitorid == 42552]\n",
    "\n",
    "\n",
    "# A basket can be identified with a unique transactionid per user in the same time stamp.\n",
    "\n",
    "# In[13]:\n",
    "\n",
    "\n",
    "#a= transaction_events[transaction_events.visitorid == 170470].itemid.values\n",
    "#transaction_events[transaction_events.visitorid == 170470]"
   ]
  },
  {
   "cell_type": "code",
   "execution_count": null,
   "metadata": {},
   "outputs": [],
   "source": [
    "#b = addtocart_events[addtocart_events.visitorid == 170470].itemid.values\n",
    "#addtocart_events[addtocart_events.visitorid == 170470]"
   ]
  },
  {
   "cell_type": "code",
   "execution_count": 9,
   "metadata": {},
   "outputs": [],
   "source": [
    "#item_properties[(item_properties.itemid == 76831)]# & (item_properties.property == \"available\")]\n",
    "\n",
    "\n",
    "# ### Histogram of basket size per transaction\n",
    "\n",
    "# In[11]:\n",
    "\n",
    "\n",
    "basket_itemCount = transaction_events.groupby([\"transactionid\"], as_index=False)[\"itemid\"].size().reset_index(name=\"itemCount\")"
   ]
  },
  {
   "cell_type": "code",
   "execution_count": 15,
   "metadata": {},
   "outputs": [
    {
     "data": {
      "image/png": "[encoded data removed]",
      "text/plain": [
       "<matplotlib.figure.Figure at 0x7f00e2d522d0>"
      ]
     },
     "metadata": {},
     "output_type": "display_data"
    }
   ],
   "source": [
    "basket_itemCount.describe(percentiles=[0.80, 0.9, 0.95, 0.99])\n",
    "\n",
    "\n",
    "# Most of the baskets contain only single item and hence donot give much insight.\n",
    "\n",
    "# #### Baskets can be divided into different sizes\n",
    "\n",
    "# In[16]:\n",
    "\n",
    "\n",
    "basket_itemCount.itemCount.hist(bins=np.arange(32)-0.5, xrot=90);\n",
    "plt.xlabel(\"Number of items bought per basket\");\n",
    "plt.ylabel(\"Frequency in baskets\");\n",
    "plt.xticks(range(32));"
   ]
  },
  {
   "cell_type": "code",
   "execution_count": 16,
   "metadata": {},
   "outputs": [
    {
     "data": {
      "image/png": "[encoded data removed]",
      "text/plain": [
       "<matplotlib.figure.Figure at 0x7f00e2ae58d0>"
      ]
     },
     "metadata": {},
     "output_type": "display_data"
    }
   ],
   "source": [
    "multiple_basket_itemCount = basket_itemCount[basket_itemCount[\"itemCount\"] > 2]\n",
    "multiple_basket_itemCount[\"itemCount\"].hist(bins=np.arange(32)-0.5, xrot=90)\n",
    "plt.xlabel(\"Number of items bought per basket\")\n",
    "plt.ylabel(\"Frequency in baskets\")\n",
    "plt.xticks(range(32));\n",
    "plt.title(\"Medium and large size baskets\");"
   ]
  },
  {
   "cell_type": "code",
   "execution_count": 10,
   "metadata": {},
   "outputs": [],
   "source": [
    "def basketClassification(item):\n",
    "    ''' \n",
    "    Baskets are classified by size as:\n",
    "    0. Very big baskets: more than 9\n",
    "    1. Big baskets: more than 4 and less than equal to 9\n",
    "    2. Medium baskets: Greater than 2 and less than equal to 4\n",
    "    3. Small baskets: Less than equal to 2\n",
    "    '''\n",
    "    if item > 9:\n",
    "        return \"VeryBig\"\n",
    "    elif item > 4 and item <= 9:\n",
    "        return \"Big\"\n",
    "    elif item > 2 and item <= 4:\n",
    "        return \"Medium\"\n",
    "    elif item <= 2:\n",
    "        return \"Small\""
   ]
  },
  {
   "cell_type": "code",
   "execution_count": 11,
   "metadata": {},
   "outputs": [],
   "source": [
    "basket_itemCount[\"basketType\"] = basket_itemCount.itemCount.apply(basketClassification)"
   ]
  },
  {
   "cell_type": "code",
   "execution_count": 19,
   "metadata": {},
   "outputs": [
    {
     "data": {
      "image/png": "[encoded data removed]",
      "text/plain": [
       "<matplotlib.figure.Figure at 0x7f00e28debd0>"
      ]
     },
     "metadata": {},
     "output_type": "display_data"
    }
   ],
   "source": [
    "basketTypes = basket_itemCount.groupby([\"basketType\"], as_index=False).size().reset_index(name=\"Count\")\n",
    "sns.barplot(x=basketTypes.basketType,y=basketTypes.Count);\n",
    "plt.title(\"Basket Classification\");"
   ]
  },
  {
   "cell_type": "code",
   "execution_count": 20,
   "metadata": {},
   "outputs": [
    {
     "data": {
      "text/plain": [
       "Index([u'timestamp', u'visitorid', u'event', u'itemid', u'transactionid'], dtype='object')"
      ]
     },
     "execution_count": 20,
     "metadata": {},
     "output_type": "execute_result"
    }
   ],
   "source": [
    "basketTypes\n",
    "\n",
    "\n",
    "# #### Mapping baskets to customers\n",
    "\n",
    "# In[38]:\n",
    "\n",
    "\n",
    "transaction_events.columns"
   ]
  },
  {
   "cell_type": "code",
   "execution_count": 15,
   "metadata": {},
   "outputs": [],
   "source": [
    "customer_basket = transaction_events[[\"visitorid\", \"transactionid\"]].drop_duplicates().reset_index(drop=True)\n",
    "customer_basket = pd.merge(customer_basket, basket_itemCount, on=\"transactionid\")"
   ]
  },
  {
   "cell_type": "code",
   "execution_count": 16,
   "metadata": {},
   "outputs": [],
   "source": [
    "customer_basket.visitorid.nunique()\n",
    "\n",
    "\n",
    "# #### Exploring taxonomy\n",
    "\n",
    "# In[15]:\n",
    "\n",
    "\n",
    "levels = {}\n",
    "i = 0"
   ]
  },
  {
   "cell_type": "code",
   "execution_count": 17,
   "metadata": {},
   "outputs": [],
   "source": [
    "relationship_tree = category_tree.copy()"
   ]
  },
  {
   "cell_type": "code",
   "execution_count": 18,
   "metadata": {},
   "outputs": [],
   "source": [
    "while len(relationship_tree.categoryid.values) != 0:\n",
    "    levels[i] = relationship_tree[relationship_tree.parentid.isnull()].categoryid.values\n",
    "    relationship_tree = relationship_tree[relationship_tree.parentid.notnull()]\n",
    "    parents = relationship_tree.parentid.values\n",
    "    for x in xrange(len(parents)):\n",
    "        if parents[x] in levels[i]:\n",
    "            parents[x] = np.nan\n",
    "    relationship_tree[\"parentid\"] = parents\n",
    "    i = i+1;    "
   ]
  },
  {
   "cell_type": "code",
   "execution_count": 19,
   "metadata": {},
   "outputs": [
    {
     "name": "stdout",
     "output_type": "stream",
     "text": [
      "Level 0: 25\n",
      "Level 1: 174\n",
      "Level 2: 702\n",
      "Level 3: 665\n",
      "Level 4: 90\n",
      "Level 5: 13\n"
     ]
    }
   ],
   "source": [
    "# Number of nodes at each level\n",
    "num_levels = i\n",
    "#sum = 0\n",
    "for j in xrange(num_levels):\n",
    "    print \"Level \"+str(j)+\": \"+str(len(levels[j]))\n",
    "    #sum += len(levels[j])\n",
    "#sum\n",
    "\n",
    "\n",
    "# #### Choosing optimal taxonomy\n",
    "\n",
    "# In[ ]:\n",
    "\n",
    "\n",
    "#The root level of each item is chosen to be used for further clustering\n",
    "\n",
    "\n",
    "# #### Fixing taxonomy level for each item\n",
    "\n",
    "# In[114]:\n",
    "\n",
    "\n",
    "#chosen level:0"
   ]
  },
  {
   "cell_type": "code",
   "execution_count": 20,
   "metadata": {},
   "outputs": [],
   "source": [
    "item_category = item_properties[item_properties.property == \"categoryid\"]#[[\"itemid\", \"value\"]]"
   ]
  },
  {
   "cell_type": "code",
   "execution_count": 21,
   "metadata": {},
   "outputs": [
    {
     "name": "stderr",
     "output_type": "stream",
     "text": [
      "/home/partha/anaconda/envs/analytics_py2.7/lib/python2.7/site-packages/ipykernel_launcher.py:1: SettingWithCopyWarning: \n",
      "A value is trying to be set on a copy of a slice from a DataFrame.\n",
      "Try using .loc[row_indexer,col_indexer] = value instead\n",
      "\n",
      "See the caveats in the documentation: http://pandas.pydata.org/pandas-docs/stable/indexing.html#indexing-view-versus-copy\n",
      "  \"\"\"Entry point for launching an IPython kernel.\n"
     ]
    }
   ],
   "source": [
    "item_category[\"categoryid\"] = item_category.value\n",
    "item_category = item_category.drop(\"value\", axis=1).reset_index(drop=True)"
   ]
  },
  {
   "cell_type": "code",
   "execution_count": 28,
   "metadata": {},
   "outputs": [
    {
     "data": {
      "text/html": [
       "<div>\n",
       "<style>\n",
       "    .dataframe thead tr:only-child th {\n",
       "        text-align: right;\n",
       "    }\n",
       "\n",
       "    .dataframe thead th {\n",
       "        text-align: left;\n",
       "    }\n",
       "\n",
       "    .dataframe tbody tr th {\n",
       "        vertical-align: top;\n",
       "    }\n",
       "</style>\n",
       "<table border=\"1\" class=\"dataframe\">\n",
       "  <thead>\n",
       "    <tr style=\"text-align: right;\">\n",
       "      <th></th>\n",
       "      <th>timestamp</th>\n",
       "      <th>itemid</th>\n",
       "      <th>property</th>\n",
       "      <th>categoryid</th>\n",
       "    </tr>\n",
       "  </thead>\n",
       "  <tbody>\n",
       "    <tr>\n",
       "      <th>1</th>\n",
       "      <td>1432436400000</td>\n",
       "      <td>281245</td>\n",
       "      <td>categoryid</td>\n",
       "      <td>1277</td>\n",
       "    </tr>\n",
       "    <tr>\n",
       "      <th>7686</th>\n",
       "      <td>1431226800000</td>\n",
       "      <td>281245</td>\n",
       "      <td>categoryid</td>\n",
       "      <td>1277</td>\n",
       "    </tr>\n",
       "    <tr>\n",
       "      <th>15399</th>\n",
       "      <td>1431831600000</td>\n",
       "      <td>281245</td>\n",
       "      <td>categoryid</td>\n",
       "      <td>1277</td>\n",
       "    </tr>\n",
       "    <tr>\n",
       "      <th>23066</th>\n",
       "      <td>1437274800000</td>\n",
       "      <td>281245</td>\n",
       "      <td>categoryid</td>\n",
       "      <td>1277</td>\n",
       "    </tr>\n",
       "    <tr>\n",
       "      <th>30735</th>\n",
       "      <td>1436670000000</td>\n",
       "      <td>281245</td>\n",
       "      <td>categoryid</td>\n",
       "      <td>1277</td>\n",
       "    </tr>\n",
       "    <tr>\n",
       "      <th>38292</th>\n",
       "      <td>1434250800000</td>\n",
       "      <td>281245</td>\n",
       "      <td>categoryid</td>\n",
       "      <td>1277</td>\n",
       "    </tr>\n",
       "    <tr>\n",
       "      <th>45876</th>\n",
       "      <td>1436065200000</td>\n",
       "      <td>281245</td>\n",
       "      <td>categoryid</td>\n",
       "      <td>1277</td>\n",
       "    </tr>\n",
       "    <tr>\n",
       "      <th>53443</th>\n",
       "      <td>1439694000000</td>\n",
       "      <td>281245</td>\n",
       "      <td>categoryid</td>\n",
       "      <td>1277</td>\n",
       "    </tr>\n",
       "    <tr>\n",
       "      <th>61052</th>\n",
       "      <td>1435460400000</td>\n",
       "      <td>281245</td>\n",
       "      <td>categoryid</td>\n",
       "      <td>1277</td>\n",
       "    </tr>\n",
       "    <tr>\n",
       "      <th>68703</th>\n",
       "      <td>1438484400000</td>\n",
       "      <td>281245</td>\n",
       "      <td>categoryid</td>\n",
       "      <td>1277</td>\n",
       "    </tr>\n",
       "    <tr>\n",
       "      <th>76226</th>\n",
       "      <td>1437879600000</td>\n",
       "      <td>281245</td>\n",
       "      <td>categoryid</td>\n",
       "      <td>1277</td>\n",
       "    </tr>\n",
       "    <tr>\n",
       "      <th>83837</th>\n",
       "      <td>1439089200000</td>\n",
       "      <td>281245</td>\n",
       "      <td>categoryid</td>\n",
       "      <td>1277</td>\n",
       "    </tr>\n",
       "    <tr>\n",
       "      <th>91470</th>\n",
       "      <td>1440903600000</td>\n",
       "      <td>281245</td>\n",
       "      <td>categoryid</td>\n",
       "      <td>438</td>\n",
       "    </tr>\n",
       "    <tr>\n",
       "      <th>99142</th>\n",
       "      <td>1441508400000</td>\n",
       "      <td>281245</td>\n",
       "      <td>categoryid</td>\n",
       "      <td>438</td>\n",
       "    </tr>\n",
       "    <tr>\n",
       "      <th>106736</th>\n",
       "      <td>1442113200000</td>\n",
       "      <td>281245</td>\n",
       "      <td>categoryid</td>\n",
       "      <td>438</td>\n",
       "    </tr>\n",
       "    <tr>\n",
       "      <th>114422</th>\n",
       "      <td>1440298800000</td>\n",
       "      <td>281245</td>\n",
       "      <td>categoryid</td>\n",
       "      <td>438</td>\n",
       "    </tr>\n",
       "    <tr>\n",
       "      <th>122212</th>\n",
       "      <td>1433041200000</td>\n",
       "      <td>281245</td>\n",
       "      <td>categoryid</td>\n",
       "      <td>1277</td>\n",
       "    </tr>\n",
       "    <tr>\n",
       "      <th>780460</th>\n",
       "      <td>1433646000000</td>\n",
       "      <td>281245</td>\n",
       "      <td>categoryid</td>\n",
       "      <td>1277</td>\n",
       "    </tr>\n",
       "  </tbody>\n",
       "</table>\n",
       "</div>"
      ],
      "text/plain": [
       "            timestamp  itemid    property categoryid\n",
       "1       1432436400000  281245  categoryid       1277\n",
       "7686    1431226800000  281245  categoryid       1277\n",
       "15399   1431831600000  281245  categoryid       1277\n",
       "23066   1437274800000  281245  categoryid       1277\n",
       "30735   1436670000000  281245  categoryid       1277\n",
       "38292   1434250800000  281245  categoryid       1277\n",
       "45876   1436065200000  281245  categoryid       1277\n",
       "53443   1439694000000  281245  categoryid       1277\n",
       "61052   1435460400000  281245  categoryid       1277\n",
       "68703   1438484400000  281245  categoryid       1277\n",
       "76226   1437879600000  281245  categoryid       1277\n",
       "83837   1439089200000  281245  categoryid       1277\n",
       "91470   1440903600000  281245  categoryid        438\n",
       "99142   1441508400000  281245  categoryid        438\n",
       "106736  1442113200000  281245  categoryid        438\n",
       "114422  1440298800000  281245  categoryid        438\n",
       "122212  1433041200000  281245  categoryid       1277\n",
       "780460  1433646000000  281245  categoryid       1277"
      ]
     },
     "execution_count": 28,
     "metadata": {},
     "output_type": "execute_result"
    }
   ],
   "source": [
    "item_category[item_category.itemid == 281245]"
   ]
  },
  {
   "cell_type": "code",
   "execution_count": null,
   "metadata": {},
   "outputs": [],
   "source": [
    "1277 in levels[2]"
   ]
  },
  {
   "cell_type": "code",
   "execution_count": null,
   "metadata": {},
   "outputs": [],
   "source": [
    "438 in levels[2]"
   ]
  },
  {
   "cell_type": "code",
   "execution_count": null,
   "metadata": {},
   "outputs": [],
   "source": [
    "category_tree[category_tree.categoryid == 438]"
   ]
  },
  {
   "cell_type": "code",
   "execution_count": null,
   "metadata": {},
   "outputs": [],
   "source": [
    "category_tree[category_tree.categoryid == 1277]"
   ]
  },
  {
   "cell_type": "code",
   "execution_count": null,
   "metadata": {},
   "outputs": [],
   "source": [
    "item_category[item_category.itemid == 76151]"
   ]
  },
  {
   "cell_type": "code",
   "execution_count": null,
   "metadata": {},
   "outputs": [],
   "source": [
    "category_tree[category_tree.categoryid == 1085]"
   ]
  },
  {
   "cell_type": "code",
   "execution_count": null,
   "metadata": {},
   "outputs": [],
   "source": [
    "1228 in levels[3]"
   ]
  },
  {
   "cell_type": "code",
   "execution_count": 22,
   "metadata": {},
   "outputs": [],
   "source": [
    "def map2rootcategory(id_):\n",
    "    '''Function to map a categoryid at any level to its root categoryid'''\n",
    "    #print id_\n",
    "    parent = category_tree[category_tree.categoryid == int(id_)].parentid.values\n",
    "    if len(parent) != 0:\n",
    "        parent = parent[0]\n",
    "    else:\n",
    "        return np.nan\n",
    "    while( np.isnan(parent) == False ):\n",
    "        id_ = parent\n",
    "        parent = category_tree[category_tree.categoryid == id_].parentid.values[0]\n",
    "    return id_"
   ]
  },
  {
   "cell_type": "code",
   "execution_count": null,
   "metadata": {},
   "outputs": [],
   "source": [
    "map2rootcategory(1228)"
   ]
  },
  {
   "cell_type": "code",
   "execution_count": null,
   "metadata": {},
   "outputs": [],
   "source": [
    "levels[0]"
   ]
  },
  {
   "cell_type": "code",
   "execution_count": 23,
   "metadata": {},
   "outputs": [],
   "source": [
    "item_category = item_category.drop([\"timestamp\", \"property\"], axis=1).drop_duplicates()"
   ]
  },
  {
   "cell_type": "code",
   "execution_count": null,
   "metadata": {},
   "outputs": [],
   "source": [
    "item_category.count()"
   ]
  },
  {
   "cell_type": "code",
   "execution_count": 24,
   "metadata": {},
   "outputs": [],
   "source": [
    "#Subset of item categories considering only the 1st category id as others would also have the same root\n",
    "item_category = item_category.drop_duplicates(subset=\"itemid\")"
   ]
  },
  {
   "cell_type": "code",
   "execution_count": 25,
   "metadata": {},
   "outputs": [],
   "source": [
    "item_category = item_category.set_index(\"itemid\")\n",
    "item_category = item_category.T.to_dict('list')"
   ]
  },
  {
   "cell_type": "code",
   "execution_count": 26,
   "metadata": {},
   "outputs": [],
   "source": [
    "transaction_items = transaction_events[[\"itemid\", \"transactionid\"]].reset_index(drop=True)"
   ]
  },
  {
   "cell_type": "code",
   "execution_count": 27,
   "metadata": {},
   "outputs": [],
   "source": [
    "def categoryfromitem(item):\n",
    "    #print item\n",
    "    #print item_category[item]\n",
    "    if(item_category.get(item, -1) != -1):\n",
    "        return int(item_category[item][0])\n",
    "    else:\n",
    "        return np.nan"
   ]
  },
  {
   "cell_type": "code",
   "execution_count": null,
   "metadata": {},
   "outputs": [],
   "source": []
  },
  {
   "cell_type": "code",
   "execution_count": 28,
   "metadata": {},
   "outputs": [],
   "source": [
    "transaction_items[\"categoryid\"] = transaction_items.itemid.apply(categoryfromitem)"
   ]
  },
  {
   "cell_type": "code",
   "execution_count": 29,
   "metadata": {},
   "outputs": [],
   "source": [
    "ghost_items = transaction_items[transaction_items.categoryid.isnull()].itemid.values"
   ]
  },
  {
   "cell_type": "code",
   "execution_count": 30,
   "metadata": {},
   "outputs": [
    {
     "data": {
      "text/html": [
       "<div>\n",
       "<style>\n",
       "    .dataframe thead tr:only-child th {\n",
       "        text-align: right;\n",
       "    }\n",
       "\n",
       "    .dataframe thead th {\n",
       "        text-align: left;\n",
       "    }\n",
       "\n",
       "    .dataframe tbody tr th {\n",
       "        vertical-align: top;\n",
       "    }\n",
       "</style>\n",
       "<table border=\"1\" class=\"dataframe\">\n",
       "  <thead>\n",
       "    <tr style=\"text-align: right;\">\n",
       "      <th></th>\n",
       "      <th>categoryid</th>\n",
       "      <th>parentid</th>\n",
       "    </tr>\n",
       "  </thead>\n",
       "  <tbody>\n",
       "  </tbody>\n",
       "</table>\n",
       "</div>"
      ],
      "text/plain": [
       "Empty DataFrame\n",
       "Columns: [categoryid, parentid]\n",
       "Index: []"
      ]
     },
     "execution_count": 30,
     "metadata": {},
     "output_type": "execute_result"
    }
   ],
   "source": [
    "category_tree[category_tree.categoryid == ghost_items[-1]]"
   ]
  },
  {
   "cell_type": "code",
   "execution_count": 31,
   "metadata": {},
   "outputs": [],
   "source": [
    "transaction_items = transaction_items[transaction_items.categoryid.notnull()]"
   ]
  },
  {
   "cell_type": "code",
   "execution_count": 32,
   "metadata": {},
   "outputs": [],
   "source": [
    "transaction_items[\"rootcategoryid\"] = transaction_items.categoryid.apply(map2rootcategory)"
   ]
  },
  {
   "cell_type": "code",
   "execution_count": 42,
   "metadata": {},
   "outputs": [
    {
     "data": {
      "text/html": [
       "<div>\n",
       "<style>\n",
       "    .dataframe thead tr:only-child th {\n",
       "        text-align: right;\n",
       "    }\n",
       "\n",
       "    .dataframe thead th {\n",
       "        text-align: left;\n",
       "    }\n",
       "\n",
       "    .dataframe tbody tr th {\n",
       "        vertical-align: top;\n",
       "    }\n",
       "</style>\n",
       "<table border=\"1\" class=\"dataframe\">\n",
       "  <thead>\n",
       "    <tr style=\"text-align: right;\">\n",
       "      <th></th>\n",
       "      <th>itemid</th>\n",
       "      <th>transactionid</th>\n",
       "      <th>categoryid</th>\n",
       "      <th>rootcategoryid</th>\n",
       "    </tr>\n",
       "  </thead>\n",
       "  <tbody>\n",
       "    <tr>\n",
       "      <th>0</th>\n",
       "      <td>356475</td>\n",
       "      <td>4000.0</td>\n",
       "      <td>386.0</td>\n",
       "      <td>140.0</td>\n",
       "    </tr>\n",
       "    <tr>\n",
       "      <th>1</th>\n",
       "      <td>15335</td>\n",
       "      <td>11117.0</td>\n",
       "      <td>1098.0</td>\n",
       "      <td>140.0</td>\n",
       "    </tr>\n",
       "    <tr>\n",
       "      <th>2</th>\n",
       "      <td>81345</td>\n",
       "      <td>5444.0</td>\n",
       "      <td>1393.0</td>\n",
       "      <td>140.0</td>\n",
       "    </tr>\n",
       "    <tr>\n",
       "      <th>3</th>\n",
       "      <td>150318</td>\n",
       "      <td>13556.0</td>\n",
       "      <td>1236.0</td>\n",
       "      <td>1600.0</td>\n",
       "    </tr>\n",
       "    <tr>\n",
       "      <th>4</th>\n",
       "      <td>310791</td>\n",
       "      <td>7244.0</td>\n",
       "      <td>437.0</td>\n",
       "      <td>653.0</td>\n",
       "    </tr>\n",
       "  </tbody>\n",
       "</table>\n",
       "</div>"
      ],
      "text/plain": [
       "   itemid  transactionid  categoryid  rootcategoryid\n",
       "0  356475         4000.0       386.0           140.0\n",
       "1   15335        11117.0      1098.0           140.0\n",
       "2   81345         5444.0      1393.0           140.0\n",
       "3  150318        13556.0      1236.0          1600.0\n",
       "4  310791         7244.0       437.0           653.0"
      ]
     },
     "execution_count": 42,
     "metadata": {},
     "output_type": "execute_result"
    }
   ],
   "source": [
    "transaction_items.head()"
   ]
  },
  {
   "cell_type": "code",
   "execution_count": 33,
   "metadata": {},
   "outputs": [],
   "source": [
    "\n",
    "\n",
    "\n",
    "# #### Creating factor table\n",
    "\n",
    "# In[31]:\n",
    "\n",
    "\n",
    "root_categories = transaction_items.rootcategoryid.values"
   ]
  },
  {
   "cell_type": "code",
   "execution_count": 34,
   "metadata": {},
   "outputs": [],
   "source": [
    "for x in root_categories:\n",
    "    transaction_items[x] = (transaction_items.rootcategoryid == x)"
   ]
  },
  {
   "cell_type": "code",
   "execution_count": 45,
   "metadata": {},
   "outputs": [
    {
     "data": {
      "text/plain": [
       "Index([        u'itemid',  u'transactionid',     u'categoryid',\n",
       "       u'rootcategoryid',             140.0,            1600.0,\n",
       "                   653.0,            1224.0,             395.0,\n",
       "                   859.0,            1698.0,            1482.0,\n",
       "                  1532.0,             250.0,             679.0,\n",
       "                   791.0,            1579.0,            1490.0,\n",
       "                   803.0,             378.0,            1452.0,\n",
       "                   431.0],\n",
       "      dtype='object')"
      ]
     },
     "execution_count": 45,
     "metadata": {},
     "output_type": "execute_result"
    }
   ],
   "source": [
    "transaction_items.columns"
   ]
  },
  {
   "cell_type": "code",
   "execution_count": 35,
   "metadata": {},
   "outputs": [],
   "source": [
    "frequency_table = transaction_items.drop([\"itemid\", \"categoryid\", \"rootcategoryid\"], axis=1)"
   ]
  },
  {
   "cell_type": "code",
   "execution_count": 47,
   "metadata": {},
   "outputs": [
    {
     "data": {
      "text/html": [
       "<div>\n",
       "<style>\n",
       "    .dataframe thead tr:only-child th {\n",
       "        text-align: right;\n",
       "    }\n",
       "\n",
       "    .dataframe thead th {\n",
       "        text-align: left;\n",
       "    }\n",
       "\n",
       "    .dataframe tbody tr th {\n",
       "        vertical-align: top;\n",
       "    }\n",
       "</style>\n",
       "<table border=\"1\" class=\"dataframe\">\n",
       "  <thead>\n",
       "    <tr style=\"text-align: right;\">\n",
       "      <th></th>\n",
       "      <th>transactionid</th>\n",
       "      <th>140.0</th>\n",
       "      <th>1600.0</th>\n",
       "      <th>653.0</th>\n",
       "      <th>1224.0</th>\n",
       "      <th>395.0</th>\n",
       "      <th>859.0</th>\n",
       "      <th>1698.0</th>\n",
       "      <th>1482.0</th>\n",
       "      <th>1532.0</th>\n",
       "      <th>250.0</th>\n",
       "      <th>679.0</th>\n",
       "      <th>791.0</th>\n",
       "      <th>1579.0</th>\n",
       "      <th>1490.0</th>\n",
       "      <th>803.0</th>\n",
       "      <th>378.0</th>\n",
       "      <th>1452.0</th>\n",
       "      <th>431.0</th>\n",
       "    </tr>\n",
       "  </thead>\n",
       "  <tbody>\n",
       "    <tr>\n",
       "      <th>1</th>\n",
       "      <td>11117.0</td>\n",
       "      <td>True</td>\n",
       "      <td>False</td>\n",
       "      <td>False</td>\n",
       "      <td>False</td>\n",
       "      <td>False</td>\n",
       "      <td>False</td>\n",
       "      <td>False</td>\n",
       "      <td>False</td>\n",
       "      <td>False</td>\n",
       "      <td>False</td>\n",
       "      <td>False</td>\n",
       "      <td>False</td>\n",
       "      <td>False</td>\n",
       "      <td>False</td>\n",
       "      <td>False</td>\n",
       "      <td>False</td>\n",
       "      <td>False</td>\n",
       "      <td>False</td>\n",
       "    </tr>\n",
       "    <tr>\n",
       "      <th>37</th>\n",
       "      <td>11117.0</td>\n",
       "      <td>False</td>\n",
       "      <td>False</td>\n",
       "      <td>True</td>\n",
       "      <td>False</td>\n",
       "      <td>False</td>\n",
       "      <td>False</td>\n",
       "      <td>False</td>\n",
       "      <td>False</td>\n",
       "      <td>False</td>\n",
       "      <td>False</td>\n",
       "      <td>False</td>\n",
       "      <td>False</td>\n",
       "      <td>False</td>\n",
       "      <td>False</td>\n",
       "      <td>False</td>\n",
       "      <td>False</td>\n",
       "      <td>False</td>\n",
       "      <td>False</td>\n",
       "    </tr>\n",
       "    <tr>\n",
       "      <th>72</th>\n",
       "      <td>11117.0</td>\n",
       "      <td>True</td>\n",
       "      <td>False</td>\n",
       "      <td>False</td>\n",
       "      <td>False</td>\n",
       "      <td>False</td>\n",
       "      <td>False</td>\n",
       "      <td>False</td>\n",
       "      <td>False</td>\n",
       "      <td>False</td>\n",
       "      <td>False</td>\n",
       "      <td>False</td>\n",
       "      <td>False</td>\n",
       "      <td>False</td>\n",
       "      <td>False</td>\n",
       "      <td>False</td>\n",
       "      <td>False</td>\n",
       "      <td>False</td>\n",
       "      <td>False</td>\n",
       "    </tr>\n",
       "    <tr>\n",
       "      <th>114</th>\n",
       "      <td>11117.0</td>\n",
       "      <td>True</td>\n",
       "      <td>False</td>\n",
       "      <td>False</td>\n",
       "      <td>False</td>\n",
       "      <td>False</td>\n",
       "      <td>False</td>\n",
       "      <td>False</td>\n",
       "      <td>False</td>\n",
       "      <td>False</td>\n",
       "      <td>False</td>\n",
       "      <td>False</td>\n",
       "      <td>False</td>\n",
       "      <td>False</td>\n",
       "      <td>False</td>\n",
       "      <td>False</td>\n",
       "      <td>False</td>\n",
       "      <td>False</td>\n",
       "      <td>False</td>\n",
       "    </tr>\n",
       "    <tr>\n",
       "      <th>138</th>\n",
       "      <td>11117.0</td>\n",
       "      <td>True</td>\n",
       "      <td>False</td>\n",
       "      <td>False</td>\n",
       "      <td>False</td>\n",
       "      <td>False</td>\n",
       "      <td>False</td>\n",
       "      <td>False</td>\n",
       "      <td>False</td>\n",
       "      <td>False</td>\n",
       "      <td>False</td>\n",
       "      <td>False</td>\n",
       "      <td>False</td>\n",
       "      <td>False</td>\n",
       "      <td>False</td>\n",
       "      <td>False</td>\n",
       "      <td>False</td>\n",
       "      <td>False</td>\n",
       "      <td>False</td>\n",
       "    </tr>\n",
       "    <tr>\n",
       "      <th>139</th>\n",
       "      <td>11117.0</td>\n",
       "      <td>True</td>\n",
       "      <td>False</td>\n",
       "      <td>False</td>\n",
       "      <td>False</td>\n",
       "      <td>False</td>\n",
       "      <td>False</td>\n",
       "      <td>False</td>\n",
       "      <td>False</td>\n",
       "      <td>False</td>\n",
       "      <td>False</td>\n",
       "      <td>False</td>\n",
       "      <td>False</td>\n",
       "      <td>False</td>\n",
       "      <td>False</td>\n",
       "      <td>False</td>\n",
       "      <td>False</td>\n",
       "      <td>False</td>\n",
       "      <td>False</td>\n",
       "    </tr>\n",
       "    <tr>\n",
       "      <th>140</th>\n",
       "      <td>11117.0</td>\n",
       "      <td>False</td>\n",
       "      <td>False</td>\n",
       "      <td>True</td>\n",
       "      <td>False</td>\n",
       "      <td>False</td>\n",
       "      <td>False</td>\n",
       "      <td>False</td>\n",
       "      <td>False</td>\n",
       "      <td>False</td>\n",
       "      <td>False</td>\n",
       "      <td>False</td>\n",
       "      <td>False</td>\n",
       "      <td>False</td>\n",
       "      <td>False</td>\n",
       "      <td>False</td>\n",
       "      <td>False</td>\n",
       "      <td>False</td>\n",
       "      <td>False</td>\n",
       "    </tr>\n",
       "    <tr>\n",
       "      <th>141</th>\n",
       "      <td>11117.0</td>\n",
       "      <td>False</td>\n",
       "      <td>False</td>\n",
       "      <td>True</td>\n",
       "      <td>False</td>\n",
       "      <td>False</td>\n",
       "      <td>False</td>\n",
       "      <td>False</td>\n",
       "      <td>False</td>\n",
       "      <td>False</td>\n",
       "      <td>False</td>\n",
       "      <td>False</td>\n",
       "      <td>False</td>\n",
       "      <td>False</td>\n",
       "      <td>False</td>\n",
       "      <td>False</td>\n",
       "      <td>False</td>\n",
       "      <td>False</td>\n",
       "      <td>False</td>\n",
       "    </tr>\n",
       "    <tr>\n",
       "      <th>175</th>\n",
       "      <td>11117.0</td>\n",
       "      <td>False</td>\n",
       "      <td>False</td>\n",
       "      <td>True</td>\n",
       "      <td>False</td>\n",
       "      <td>False</td>\n",
       "      <td>False</td>\n",
       "      <td>False</td>\n",
       "      <td>False</td>\n",
       "      <td>False</td>\n",
       "      <td>False</td>\n",
       "      <td>False</td>\n",
       "      <td>False</td>\n",
       "      <td>False</td>\n",
       "      <td>False</td>\n",
       "      <td>False</td>\n",
       "      <td>False</td>\n",
       "      <td>False</td>\n",
       "      <td>False</td>\n",
       "    </tr>\n",
       "    <tr>\n",
       "      <th>176</th>\n",
       "      <td>11117.0</td>\n",
       "      <td>False</td>\n",
       "      <td>False</td>\n",
       "      <td>True</td>\n",
       "      <td>False</td>\n",
       "      <td>False</td>\n",
       "      <td>False</td>\n",
       "      <td>False</td>\n",
       "      <td>False</td>\n",
       "      <td>False</td>\n",
       "      <td>False</td>\n",
       "      <td>False</td>\n",
       "      <td>False</td>\n",
       "      <td>False</td>\n",
       "      <td>False</td>\n",
       "      <td>False</td>\n",
       "      <td>False</td>\n",
       "      <td>False</td>\n",
       "      <td>False</td>\n",
       "    </tr>\n",
       "    <tr>\n",
       "      <th>177</th>\n",
       "      <td>11117.0</td>\n",
       "      <td>False</td>\n",
       "      <td>False</td>\n",
       "      <td>True</td>\n",
       "      <td>False</td>\n",
       "      <td>False</td>\n",
       "      <td>False</td>\n",
       "      <td>False</td>\n",
       "      <td>False</td>\n",
       "      <td>False</td>\n",
       "      <td>False</td>\n",
       "      <td>False</td>\n",
       "      <td>False</td>\n",
       "      <td>False</td>\n",
       "      <td>False</td>\n",
       "      <td>False</td>\n",
       "      <td>False</td>\n",
       "      <td>False</td>\n",
       "      <td>False</td>\n",
       "    </tr>\n",
       "  </tbody>\n",
       "</table>\n",
       "</div>"
      ],
      "text/plain": [
       "     transactionid  140.0  1600.0  653.0  1224.0  395.0  859.0  1698.0  \\\n",
       "1          11117.0   True   False  False   False  False  False   False   \n",
       "37         11117.0  False   False   True   False  False  False   False   \n",
       "72         11117.0   True   False  False   False  False  False   False   \n",
       "114        11117.0   True   False  False   False  False  False   False   \n",
       "138        11117.0   True   False  False   False  False  False   False   \n",
       "139        11117.0   True   False  False   False  False  False   False   \n",
       "140        11117.0  False   False   True   False  False  False   False   \n",
       "141        11117.0  False   False   True   False  False  False   False   \n",
       "175        11117.0  False   False   True   False  False  False   False   \n",
       "176        11117.0  False   False   True   False  False  False   False   \n",
       "177        11117.0  False   False   True   False  False  False   False   \n",
       "\n",
       "     1482.0  1532.0  250.0  679.0  791.0  1579.0  1490.0  803.0  378.0  \\\n",
       "1     False   False  False  False  False   False   False  False  False   \n",
       "37    False   False  False  False  False   False   False  False  False   \n",
       "72    False   False  False  False  False   False   False  False  False   \n",
       "114   False   False  False  False  False   False   False  False  False   \n",
       "138   False   False  False  False  False   False   False  False  False   \n",
       "139   False   False  False  False  False   False   False  False  False   \n",
       "140   False   False  False  False  False   False   False  False  False   \n",
       "141   False   False  False  False  False   False   False  False  False   \n",
       "175   False   False  False  False  False   False   False  False  False   \n",
       "176   False   False  False  False  False   False   False  False  False   \n",
       "177   False   False  False  False  False   False   False  False  False   \n",
       "\n",
       "     1452.0  431.0  \n",
       "1     False  False  \n",
       "37    False  False  \n",
       "72    False  False  \n",
       "114   False  False  \n",
       "138   False  False  \n",
       "139   False  False  \n",
       "140   False  False  \n",
       "141   False  False  \n",
       "175   False  False  \n",
       "176   False  False  \n",
       "177   False  False  "
      ]
     },
     "execution_count": 47,
     "metadata": {},
     "output_type": "execute_result"
    }
   ],
   "source": [
    "frequency_table[frequency_table.transactionid==11117]"
   ]
  },
  {
   "cell_type": "code",
   "execution_count": 48,
   "metadata": {},
   "outputs": [
    {
     "data": {
      "text/plain": [
       "transactionid    122287.0\n",
       "140.0                 5.0\n",
       "1600.0                0.0\n",
       "653.0                 6.0\n",
       "1224.0                0.0\n",
       "395.0                 0.0\n",
       "859.0                 0.0\n",
       "1698.0                0.0\n",
       "1482.0                0.0\n",
       "1532.0                0.0\n",
       "250.0                 0.0\n",
       "679.0                 0.0\n",
       "791.0                 0.0\n",
       "1579.0                0.0\n",
       "1490.0                0.0\n",
       "803.0                 0.0\n",
       "378.0                 0.0\n",
       "1452.0                0.0\n",
       "431.0                 0.0\n",
       "dtype: float64"
      ]
     },
     "execution_count": 48,
     "metadata": {},
     "output_type": "execute_result"
    }
   ],
   "source": [
    "frequency_table[frequency_table.transactionid==11117].sum()"
   ]
  },
  {
   "cell_type": "code",
   "execution_count": 36,
   "metadata": {},
   "outputs": [],
   "source": [
    "frequency_table = frequency_table.groupby(\"transactionid\", as_index=False).sum()"
   ]
  },
  {
   "cell_type": "code",
   "execution_count": 37,
   "metadata": {},
   "outputs": [],
   "source": [
    "frequency_table[frequency_table.transactionid ==11117]\n",
    "\n",
    "\n",
    "# Instead of 0-1 values as mentioned in the paper, my frequency table has the number of items(frequency) of a particular product category( taxonomy: rootid) in each basket.\n",
    "\n",
    "# In[35]:\n",
    "\n",
    "\n",
    "factor_table = frequency_table.set_index(\"transactionid\")\n",
    "factor_table = factor_table.applymap(lambda x: 1 if x > 0 else 0)"
   ]
  },
  {
   "cell_type": "code",
   "execution_count": 51,
   "metadata": {},
   "outputs": [
    {
     "data": {
      "text/html": [
       "<div>\n",
       "<style>\n",
       "    .dataframe thead tr:only-child th {\n",
       "        text-align: right;\n",
       "    }\n",
       "\n",
       "    .dataframe thead th {\n",
       "        text-align: left;\n",
       "    }\n",
       "\n",
       "    .dataframe tbody tr th {\n",
       "        vertical-align: top;\n",
       "    }\n",
       "</style>\n",
       "<table border=\"1\" class=\"dataframe\">\n",
       "  <thead>\n",
       "    <tr style=\"text-align: right;\">\n",
       "      <th></th>\n",
       "      <th>140.0</th>\n",
       "      <th>1600.0</th>\n",
       "      <th>653.0</th>\n",
       "      <th>1224.0</th>\n",
       "      <th>395.0</th>\n",
       "      <th>859.0</th>\n",
       "      <th>1698.0</th>\n",
       "      <th>1482.0</th>\n",
       "      <th>1532.0</th>\n",
       "      <th>250.0</th>\n",
       "      <th>679.0</th>\n",
       "      <th>791.0</th>\n",
       "      <th>1579.0</th>\n",
       "      <th>1490.0</th>\n",
       "      <th>803.0</th>\n",
       "      <th>378.0</th>\n",
       "      <th>1452.0</th>\n",
       "      <th>431.0</th>\n",
       "    </tr>\n",
       "    <tr>\n",
       "      <th>transactionid</th>\n",
       "      <th></th>\n",
       "      <th></th>\n",
       "      <th></th>\n",
       "      <th></th>\n",
       "      <th></th>\n",
       "      <th></th>\n",
       "      <th></th>\n",
       "      <th></th>\n",
       "      <th></th>\n",
       "      <th></th>\n",
       "      <th></th>\n",
       "      <th></th>\n",
       "      <th></th>\n",
       "      <th></th>\n",
       "      <th></th>\n",
       "      <th></th>\n",
       "      <th></th>\n",
       "      <th></th>\n",
       "    </tr>\n",
       "  </thead>\n",
       "  <tbody>\n",
       "    <tr>\n",
       "      <th>11117</th>\n",
       "      <td>1</td>\n",
       "      <td>0</td>\n",
       "      <td>1</td>\n",
       "      <td>0</td>\n",
       "      <td>0</td>\n",
       "      <td>0</td>\n",
       "      <td>0</td>\n",
       "      <td>0</td>\n",
       "      <td>0</td>\n",
       "      <td>0</td>\n",
       "      <td>0</td>\n",
       "      <td>0</td>\n",
       "      <td>0</td>\n",
       "      <td>0</td>\n",
       "      <td>0</td>\n",
       "      <td>0</td>\n",
       "      <td>0</td>\n",
       "      <td>0</td>\n",
       "    </tr>\n",
       "  </tbody>\n",
       "</table>\n",
       "</div>"
      ],
      "text/plain": [
       "               140.0   1600.0  653.0   1224.0  395.0   859.0   1698.0  1482.0  \\\n",
       "transactionid                                                                   \n",
       "11117               1       0       1       0       0       0       0       0   \n",
       "\n",
       "               1532.0  250.0   679.0   791.0   1579.0  1490.0  803.0   378.0   \\\n",
       "transactionid                                                                   \n",
       "11117               0       0       0       0       0       0       0       0   \n",
       "\n",
       "               1452.0  431.0   \n",
       "transactionid                  \n",
       "11117               0       0  "
      ]
     },
     "execution_count": 51,
     "metadata": {},
     "output_type": "execute_result"
    }
   ],
   "source": [
    "factor_table.loc[[11117]]"
   ]
  },
  {
   "cell_type": "code",
   "execution_count": 38,
   "metadata": {},
   "outputs": [],
   "source": [
    "# #### Clustering\n",
    "\n",
    "# KMeans\n",
    "\n",
    "# In[75]:\n",
    "\n",
    "\n",
    "from sklearn.cluster import KMeans\n",
    "from sklearn import metrics\n",
    "from sklearn.decomposition import PCA\n",
    "from sklearn.metrics import silhouette_score\n",
    "\n",
    "\n"
   ]
  },
  {
   "cell_type": "code",
   "execution_count": 39,
   "metadata": {},
   "outputs": [],
   "source": [
    "# #### Determine number of clusters using Elbow method and Silhoutte score\n",
    "\n",
    "# In[76]:\n",
    "\n",
    "\n",
    "#kmeans = KMeans().fit(factor_table)\n",
    "Nc = range(1,21)\n",
    "kmeans = [KMeans(n_clusters=i) for i in Nc]"
   ]
  },
  {
   "cell_type": "code",
   "execution_count": 40,
   "metadata": {},
   "outputs": [],
   "source": [
    "sse1 = [kmeans[i].fit(factor_table).inertia_ for i in range(len(kmeans))]\n",
    "sse2 = [kmeans[i].fit(frequency_table).inertia_ for i in range(len(kmeans))]"
   ]
  },
  {
   "cell_type": "code",
   "execution_count": 44,
   "metadata": {},
   "outputs": [
    {
     "data": {
      "image/png": "[encoded data removed]",
      "text/plain": [
       "<matplotlib.figure.Figure at 0x7f9c9e5bfa10>"
      ]
     },
     "metadata": {},
     "output_type": "display_data"
    }
   ],
   "source": [
    "plt.plot(Nc,sse1);\n",
    "#plt.plot(Nc,sse2);\n",
    "plt.xlabel(\"Number of clusters\");\n",
    "plt.ylabel(\"Sum squared errors\");\n",
    "plt.title(\"Elbow Curve of factor table\");\n",
    "plt.xticks(range(1,21));\n",
    "plt.grid();\n",
    "\n",
    "\n",
    "# By visual inspection, we choose n_cluster = 12\n",
    "\n",
    "# #### Trying to visualize clusters\n",
    "\n",
    "# In[115]:\n",
    "\n"
   ]
  },
  {
   "cell_type": "code",
   "execution_count": 45,
   "metadata": {},
   "outputs": [
    {
     "data": {
      "image/png": "[encoded data removed]",
      "text/plain": [
       "<matplotlib.figure.Figure at 0x7f9cae722cd0>"
      ]
     },
     "metadata": {},
     "output_type": "display_data"
    }
   ],
   "source": [
    "plt.plot(Nc,sse2);\n",
    "#plt.plot(Nc,sse2);\n",
    "plt.xlabel(\"Number of clusters\");\n",
    "plt.ylabel(\"Sum squared errors\");\n",
    "plt.title(\"Elbow Curve of frequency table\");\n",
    "plt.xticks(range(1,21));\n",
    "plt.grid();\n",
    "\n",
    "\n",
    "# By visual inspection, we choose n_cluster = 12\n",
    "\n",
    "# #### Trying to visualize clusters\n",
    "\n",
    "# In[115]:\n",
    "\n"
   ]
  },
  {
   "cell_type": "code",
   "execution_count": null,
   "metadata": {},
   "outputs": [],
   "source": [
    "'''\n",
    "pca = PCA(n_components=1).fit(factor_table)\n",
    "pca_d = factor_table.index\n",
    "pca_c = pca.transform(factor_table)\n",
    "plt.scatter(pca_c[:, 0], pca_d, c=kmeans[12].labels_);\n",
    "'''\n",
    "\n"
   ]
  },
  {
   "cell_type": "code",
   "execution_count": null,
   "metadata": {},
   "outputs": [],
   "source": []
  },
  {
   "cell_type": "code",
   "execution_count": 55,
   "metadata": {},
   "outputs": [],
   "source": [
    "# #### Inferences\n",
    "\n",
    "# In[125]:\n",
    "\n",
    "\n",
    "kmeans = np.array(KMeans(n_clusters=12).fit_predict(factor_table))\n",
    "cluster_freq = {}\n",
    "for x in range(12):\n",
    "    cluster_freq[x] = (kmeans == x).sum()"
   ]
  },
  {
   "cell_type": "code",
   "execution_count": 56,
   "metadata": {},
   "outputs": [
    {
     "data": {
      "image/png": "[encoded data removed]",
      "text/plain": [
       "<matplotlib.figure.Figure at 0x7f00e2996710>"
      ]
     },
     "metadata": {},
     "output_type": "display_data"
    }
   ],
   "source": [
    "sns.barplot(x=cluster_freq.keys(),y=cluster_freq.values());\n",
    "plt.xlabel(\"Cluster number\");\n",
    "plt.ylabel(\"Number of baskets in the cluster\");\n",
    "\n",
    "\n",
    "# Non uniform distribution in each of the clusters. Possiblity of deriving advantage from such a situation\n",
    "\n"
   ]
  },
  {
   "cell_type": "code",
   "execution_count": null,
   "metadata": {},
   "outputs": [],
   "source": [
    "# Alternate clustering\n",
    "\n",
    "# In[51]:\n",
    "\n",
    "\n",
    "factor_table.sum().sum()*100.0/factor_table.size\n",
    "\n",
    "\n",
    "# ### K-Means using Hamming distance\n",
    "\n",
    "# In[73]:\n",
    "\n",
    "\n",
    "from kmeans import kmeans_hamming\n",
    "\n",
    "\n",
    "# In[ ]:\n",
    "\n",
    "\n",
    "#kmeans = KMeans().fit(factor_table)\n",
    "Nc = range(1,21)\n",
    "kmeans = [KMeans(n_clusters=i) for i in Nc]"
   ]
  },
  {
   "cell_type": "code",
   "execution_count": null,
   "metadata": {},
   "outputs": [],
   "source": [
    "import sys\n",
    "sys.path.append(\"home/partha/Desktop/MTP\")\n",
    "print sys.path"
   ]
  },
  {
   "cell_type": "code",
   "execution_count": 62,
   "metadata": {},
   "outputs": [],
   "source": [
    "# ### Rank order CLustering\n",
    "\n",
    "# In[40]:\n",
    "from ROC import cluster, build_index, calculate_symmetric_dist"
   ]
  },
  {
   "cell_type": "code",
   "execution_count": 58,
   "metadata": {},
   "outputs": [],
   "source": [
    "descriptor_matrix = factor_table.astype(\"float\")"
   ]
  },
  {
   "cell_type": "code",
   "execution_count": 59,
   "metadata": {},
   "outputs": [
    {
     "name": "stdout",
     "output_type": "stream",
     "text": [
      "Distance calculation time : 33.3215539455\n",
      "N Clusters: 16788, thresh: 2\n"
     ]
    }
   ],
   "source": [
    "clusters = cluster(descriptor_matrix.values, n_neighbors=18)"
   ]
  },
  {
   "cell_type": "code",
   "execution_count": 63,
   "metadata": {},
   "outputs": [
    {
     "ename": "AttributeError",
     "evalue": "'DataFrame' object has no attribute 'dtype'",
     "output_type": "error",
     "traceback": [
      "\u001b[0;31m---------------------------------------------------------------------------\u001b[0m",
      "\u001b[0;31mAttributeError\u001b[0m                            Traceback (most recent call last)",
      "\u001b[0;32m<ipython-input-63-d7f91e7b09b2>\u001b[0m in \u001b[0;36m<module>\u001b[0;34m()\u001b[0m\n\u001b[0;32m----> 1\u001b[0;31m \u001b[0mapp_nearest_neighbors\u001b[0m\u001b[0;34m,\u001b[0m \u001b[0mdists\u001b[0m \u001b[0;34m=\u001b[0m \u001b[0mbuild_index\u001b[0m\u001b[0;34m(\u001b[0m\u001b[0mdescriptor_matrix\u001b[0m\u001b[0;34m,\u001b[0m \u001b[0mn_neighbors\u001b[0m\u001b[0;34m=\u001b[0m\u001b[0;36m2\u001b[0m\u001b[0;34m)\u001b[0m\u001b[0;34m\u001b[0m\u001b[0m\n\u001b[0m\u001b[1;32m      2\u001b[0m \u001b[0mdistance_matrix\u001b[0m \u001b[0;34m=\u001b[0m \u001b[0mcalculate_symmetric_dist\u001b[0m\u001b[0;34m(\u001b[0m\u001b[0mapp_nearest_neighbors\u001b[0m\u001b[0;34m)\u001b[0m\u001b[0;34m\u001b[0m\u001b[0m\n",
      "\u001b[0;32m/home/partha/Desktop/MTP/ROC.py\u001b[0m in \u001b[0;36mbuild_index\u001b[0;34m(dataset, n_neighbors)\u001b[0m\n\u001b[1;32m     20\u001b[0m     params = flann.build_index(dataset,\n\u001b[1;32m     21\u001b[0m                                \u001b[0malgorithm\u001b[0m\u001b[0;34m=\u001b[0m\u001b[0;34m'kdtree'\u001b[0m\u001b[0;34m,\u001b[0m\u001b[0;34m\u001b[0m\u001b[0m\n\u001b[0;32m---> 22\u001b[0;31m                                \u001b[0mtrees\u001b[0m\u001b[0;34m=\u001b[0m\u001b[0;36m4\u001b[0m\u001b[0;34m\u001b[0m\u001b[0m\n\u001b[0m\u001b[1;32m     23\u001b[0m                                )\n\u001b[1;32m     24\u001b[0m     \u001b[0;31m#print params\u001b[0m\u001b[0;34m\u001b[0m\u001b[0;34m\u001b[0m\u001b[0m\n",
      "\u001b[0;32m/home/partha/anaconda/envs/analytics_py2.7/lib/python2.7/site-packages/pyflann/index.pyc\u001b[0m in \u001b[0;36mbuild_index\u001b[0;34m(self, pts, **kwargs)\u001b[0m\n\u001b[1;32m    141\u001b[0m         \"\"\"\n\u001b[1;32m    142\u001b[0m \u001b[0;34m\u001b[0m\u001b[0m\n\u001b[0;32m--> 143\u001b[0;31m         \u001b[0;32mif\u001b[0m \u001b[0;32mnot\u001b[0m \u001b[0mpts\u001b[0m\u001b[0;34m.\u001b[0m\u001b[0mdtype\u001b[0m\u001b[0;34m.\u001b[0m\u001b[0mtype\u001b[0m \u001b[0;32min\u001b[0m \u001b[0mallowed_types\u001b[0m\u001b[0;34m:\u001b[0m\u001b[0;34m\u001b[0m\u001b[0m\n\u001b[0m\u001b[1;32m    144\u001b[0m             \u001b[0;32mraise\u001b[0m \u001b[0mFLANNException\u001b[0m\u001b[0;34m(\u001b[0m\u001b[0;34m\"Cannot handle type: %s\"\u001b[0m\u001b[0;34m%\u001b[0m\u001b[0mpts\u001b[0m\u001b[0;34m.\u001b[0m\u001b[0mdtype\u001b[0m\u001b[0;34m)\u001b[0m\u001b[0;34m\u001b[0m\u001b[0m\n\u001b[1;32m    145\u001b[0m \u001b[0;34m\u001b[0m\u001b[0m\n",
      "\u001b[0;32m/home/partha/anaconda/envs/analytics_py2.7/lib/python2.7/site-packages/pandas/core/generic.pyc\u001b[0m in \u001b[0;36m__getattr__\u001b[0;34m(self, name)\u001b[0m\n\u001b[1;32m   3079\u001b[0m             \u001b[0;32mif\u001b[0m \u001b[0mname\u001b[0m \u001b[0;32min\u001b[0m \u001b[0mself\u001b[0m\u001b[0;34m.\u001b[0m\u001b[0m_info_axis\u001b[0m\u001b[0;34m:\u001b[0m\u001b[0;34m\u001b[0m\u001b[0m\n\u001b[1;32m   3080\u001b[0m                 \u001b[0;32mreturn\u001b[0m \u001b[0mself\u001b[0m\u001b[0;34m[\u001b[0m\u001b[0mname\u001b[0m\u001b[0;34m]\u001b[0m\u001b[0;34m\u001b[0m\u001b[0m\n\u001b[0;32m-> 3081\u001b[0;31m             \u001b[0;32mreturn\u001b[0m \u001b[0mobject\u001b[0m\u001b[0;34m.\u001b[0m\u001b[0m__getattribute__\u001b[0m\u001b[0;34m(\u001b[0m\u001b[0mself\u001b[0m\u001b[0;34m,\u001b[0m \u001b[0mname\u001b[0m\u001b[0;34m)\u001b[0m\u001b[0;34m\u001b[0m\u001b[0m\n\u001b[0m\u001b[1;32m   3082\u001b[0m \u001b[0;34m\u001b[0m\u001b[0m\n\u001b[1;32m   3083\u001b[0m     \u001b[0;32mdef\u001b[0m \u001b[0m__setattr__\u001b[0m\u001b[0;34m(\u001b[0m\u001b[0mself\u001b[0m\u001b[0;34m,\u001b[0m \u001b[0mname\u001b[0m\u001b[0;34m,\u001b[0m \u001b[0mvalue\u001b[0m\u001b[0;34m)\u001b[0m\u001b[0;34m:\u001b[0m\u001b[0;34m\u001b[0m\u001b[0m\n",
      "\u001b[0;31mAttributeError\u001b[0m: 'DataFrame' object has no attribute 'dtype'"
     ]
    }
   ],
   "source": [
    "app_nearest_neighbors, dists = build_index(descriptor_matrix, n_neighbors=2)\n",
    "distance_matrix = calculate_symmetric_dist(app_nearest_neighbors)"
   ]
  },
  {
   "cell_type": "code",
   "execution_count": null,
   "metadata": {},
   "outputs": [],
   "source": []
  }
 ],
 "metadata": {
  "kernelspec": {
   "display_name": "Python 2",
   "language": "python",
   "name": "python2"
  },
  "language_info": {
   "codemirror_mode": {
    "name": "ipython",
    "version": 2
   },
   "file_extension": ".py",
   "mimetype": "text/x-python",
   "name": "python",
   "nbconvert_exporter": "python",
   "pygments_lexer": "ipython2",
   "version": "2.7.13"
  }
 },
 "nbformat": 4,
 "nbformat_minor": 2
}
