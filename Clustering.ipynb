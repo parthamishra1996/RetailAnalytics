{
 "cells": [
  {
   "cell_type": "code",
   "execution_count": 75,
   "metadata": {},
   "outputs": [],
   "source": [
    "import numpy as np\n",
    "import pandas as pd\n",
    "import sys\n",
    "import seaborn as sns\n",
    "get_ipython().magic(u'matplotlib inline')\n",
    "import matplotlib.pyplot as plt\n",
    "from sklearn import metrics"
   ]
  },
  {
   "cell_type": "code",
   "execution_count": 2,
   "metadata": {},
   "outputs": [],
   "source": [
    "factor_table = pd.read_csv(\"Factor_Table.csv\", index_col=[\"transactionid\"])\n",
    "frequency_table = pd.read_csv(\"Frequency_Table.csv\", index_col=[\"transactionid\"])"
   ]
  },
  {
   "cell_type": "code",
   "execution_count": 23,
   "metadata": {},
   "outputs": [
    {
     "data": {
      "text/html": [
       "<div>\n",
       "<style>\n",
       "    .dataframe thead tr:only-child th {\n",
       "        text-align: right;\n",
       "    }\n",
       "\n",
       "    .dataframe thead th {\n",
       "        text-align: left;\n",
       "    }\n",
       "\n",
       "    .dataframe tbody tr th {\n",
       "        vertical-align: top;\n",
       "    }\n",
       "</style>\n",
       "<table border=\"1\" class=\"dataframe\">\n",
       "  <thead>\n",
       "    <tr style=\"text-align: right;\">\n",
       "      <th></th>\n",
       "      <th>140.0</th>\n",
       "      <th>1600.0</th>\n",
       "      <th>653.0</th>\n",
       "      <th>1224.0</th>\n",
       "      <th>395.0</th>\n",
       "      <th>859.0</th>\n",
       "      <th>1698.0</th>\n",
       "      <th>1482.0</th>\n",
       "      <th>1532.0</th>\n",
       "      <th>250.0</th>\n",
       "      <th>679.0</th>\n",
       "      <th>791.0</th>\n",
       "      <th>1579.0</th>\n",
       "      <th>1490.0</th>\n",
       "      <th>803.0</th>\n",
       "      <th>378.0</th>\n",
       "      <th>1452.0</th>\n",
       "      <th>431.0</th>\n",
       "    </tr>\n",
       "    <tr>\n",
       "      <th>transactionid</th>\n",
       "      <th></th>\n",
       "      <th></th>\n",
       "      <th></th>\n",
       "      <th></th>\n",
       "      <th></th>\n",
       "      <th></th>\n",
       "      <th></th>\n",
       "      <th></th>\n",
       "      <th></th>\n",
       "      <th></th>\n",
       "      <th></th>\n",
       "      <th></th>\n",
       "      <th></th>\n",
       "      <th></th>\n",
       "      <th></th>\n",
       "      <th></th>\n",
       "      <th></th>\n",
       "      <th></th>\n",
       "    </tr>\n",
       "  </thead>\n",
       "  <tbody>\n",
       "    <tr>\n",
       "      <th>0.0</th>\n",
       "      <td>1</td>\n",
       "      <td>0</td>\n",
       "      <td>0</td>\n",
       "      <td>0</td>\n",
       "      <td>0</td>\n",
       "      <td>0</td>\n",
       "      <td>0</td>\n",
       "      <td>0</td>\n",
       "      <td>0</td>\n",
       "      <td>0</td>\n",
       "      <td>0</td>\n",
       "      <td>0</td>\n",
       "      <td>0</td>\n",
       "      <td>0</td>\n",
       "      <td>0</td>\n",
       "      <td>0</td>\n",
       "      <td>0</td>\n",
       "      <td>0</td>\n",
       "    </tr>\n",
       "    <tr>\n",
       "      <th>1.0</th>\n",
       "      <td>0</td>\n",
       "      <td>0</td>\n",
       "      <td>0</td>\n",
       "      <td>0</td>\n",
       "      <td>0</td>\n",
       "      <td>0</td>\n",
       "      <td>0</td>\n",
       "      <td>0</td>\n",
       "      <td>1</td>\n",
       "      <td>0</td>\n",
       "      <td>0</td>\n",
       "      <td>0</td>\n",
       "      <td>0</td>\n",
       "      <td>0</td>\n",
       "      <td>0</td>\n",
       "      <td>0</td>\n",
       "      <td>0</td>\n",
       "      <td>0</td>\n",
       "    </tr>\n",
       "    <tr>\n",
       "      <th>2.0</th>\n",
       "      <td>0</td>\n",
       "      <td>0</td>\n",
       "      <td>0</td>\n",
       "      <td>0</td>\n",
       "      <td>0</td>\n",
       "      <td>0</td>\n",
       "      <td>0</td>\n",
       "      <td>0</td>\n",
       "      <td>1</td>\n",
       "      <td>0</td>\n",
       "      <td>0</td>\n",
       "      <td>0</td>\n",
       "      <td>0</td>\n",
       "      <td>0</td>\n",
       "      <td>0</td>\n",
       "      <td>0</td>\n",
       "      <td>0</td>\n",
       "      <td>0</td>\n",
       "    </tr>\n",
       "    <tr>\n",
       "      <th>3.0</th>\n",
       "      <td>0</td>\n",
       "      <td>1</td>\n",
       "      <td>0</td>\n",
       "      <td>0</td>\n",
       "      <td>0</td>\n",
       "      <td>0</td>\n",
       "      <td>0</td>\n",
       "      <td>0</td>\n",
       "      <td>0</td>\n",
       "      <td>0</td>\n",
       "      <td>0</td>\n",
       "      <td>0</td>\n",
       "      <td>0</td>\n",
       "      <td>0</td>\n",
       "      <td>0</td>\n",
       "      <td>0</td>\n",
       "      <td>0</td>\n",
       "      <td>0</td>\n",
       "    </tr>\n",
       "    <tr>\n",
       "      <th>4.0</th>\n",
       "      <td>0</td>\n",
       "      <td>1</td>\n",
       "      <td>0</td>\n",
       "      <td>0</td>\n",
       "      <td>0</td>\n",
       "      <td>0</td>\n",
       "      <td>0</td>\n",
       "      <td>0</td>\n",
       "      <td>0</td>\n",
       "      <td>0</td>\n",
       "      <td>0</td>\n",
       "      <td>0</td>\n",
       "      <td>0</td>\n",
       "      <td>0</td>\n",
       "      <td>0</td>\n",
       "      <td>0</td>\n",
       "      <td>0</td>\n",
       "      <td>0</td>\n",
       "    </tr>\n",
       "  </tbody>\n",
       "</table>\n",
       "</div>"
      ],
      "text/plain": [
       "               140.0  1600.0  653.0  1224.0  395.0  859.0  1698.0  1482.0  \\\n",
       "transactionid                                                               \n",
       "0.0                1       0      0       0      0      0       0       0   \n",
       "1.0                0       0      0       0      0      0       0       0   \n",
       "2.0                0       0      0       0      0      0       0       0   \n",
       "3.0                0       1      0       0      0      0       0       0   \n",
       "4.0                0       1      0       0      0      0       0       0   \n",
       "\n",
       "               1532.0  250.0  679.0  791.0  1579.0  1490.0  803.0  378.0  \\\n",
       "transactionid                                                              \n",
       "0.0                 0      0      0      0       0       0      0      0   \n",
       "1.0                 1      0      0      0       0       0      0      0   \n",
       "2.0                 1      0      0      0       0       0      0      0   \n",
       "3.0                 0      0      0      0       0       0      0      0   \n",
       "4.0                 0      0      0      0       0       0      0      0   \n",
       "\n",
       "               1452.0  431.0  \n",
       "transactionid                 \n",
       "0.0                 0      0  \n",
       "1.0                 0      0  \n",
       "2.0                 0      0  \n",
       "3.0                 0      0  \n",
       "4.0                 0      0  "
      ]
     },
     "execution_count": 23,
     "metadata": {},
     "output_type": "execute_result"
    }
   ],
   "source": [
    "factor_table.head()"
   ]
  },
  {
   "cell_type": "code",
   "execution_count": 26,
   "metadata": {},
   "outputs": [
    {
     "data": {
      "text/html": [
       "<div>\n",
       "<style>\n",
       "    .dataframe thead tr:only-child th {\n",
       "        text-align: right;\n",
       "    }\n",
       "\n",
       "    .dataframe thead th {\n",
       "        text-align: left;\n",
       "    }\n",
       "\n",
       "    .dataframe tbody tr th {\n",
       "        vertical-align: top;\n",
       "    }\n",
       "</style>\n",
       "<table border=\"1\" class=\"dataframe\">\n",
       "  <thead>\n",
       "    <tr style=\"text-align: right;\">\n",
       "      <th></th>\n",
       "      <th>140.0</th>\n",
       "      <th>1600.0</th>\n",
       "      <th>653.0</th>\n",
       "      <th>1224.0</th>\n",
       "      <th>395.0</th>\n",
       "      <th>859.0</th>\n",
       "      <th>1698.0</th>\n",
       "      <th>1482.0</th>\n",
       "      <th>1532.0</th>\n",
       "      <th>250.0</th>\n",
       "      <th>679.0</th>\n",
       "      <th>791.0</th>\n",
       "      <th>1579.0</th>\n",
       "      <th>1490.0</th>\n",
       "      <th>803.0</th>\n",
       "      <th>378.0</th>\n",
       "      <th>1452.0</th>\n",
       "      <th>431.0</th>\n",
       "    </tr>\n",
       "    <tr>\n",
       "      <th>transactionid</th>\n",
       "      <th></th>\n",
       "      <th></th>\n",
       "      <th></th>\n",
       "      <th></th>\n",
       "      <th></th>\n",
       "      <th></th>\n",
       "      <th></th>\n",
       "      <th></th>\n",
       "      <th></th>\n",
       "      <th></th>\n",
       "      <th></th>\n",
       "      <th></th>\n",
       "      <th></th>\n",
       "      <th></th>\n",
       "      <th></th>\n",
       "      <th></th>\n",
       "      <th></th>\n",
       "      <th></th>\n",
       "    </tr>\n",
       "  </thead>\n",
       "  <tbody>\n",
       "    <tr>\n",
       "      <th>10.0</th>\n",
       "      <td>1.0</td>\n",
       "      <td>0.0</td>\n",
       "      <td>0.0</td>\n",
       "      <td>0.0</td>\n",
       "      <td>0.0</td>\n",
       "      <td>0.0</td>\n",
       "      <td>0.0</td>\n",
       "      <td>0.0</td>\n",
       "      <td>0.0</td>\n",
       "      <td>0.0</td>\n",
       "      <td>0.0</td>\n",
       "      <td>0.0</td>\n",
       "      <td>0.0</td>\n",
       "      <td>0.0</td>\n",
       "      <td>0.0</td>\n",
       "      <td>0.0</td>\n",
       "      <td>0.0</td>\n",
       "      <td>0.0</td>\n",
       "    </tr>\n",
       "    <tr>\n",
       "      <th>11.0</th>\n",
       "      <td>0.0</td>\n",
       "      <td>0.0</td>\n",
       "      <td>0.0</td>\n",
       "      <td>0.0</td>\n",
       "      <td>0.0</td>\n",
       "      <td>0.0</td>\n",
       "      <td>0.0</td>\n",
       "      <td>0.0</td>\n",
       "      <td>0.0</td>\n",
       "      <td>0.0</td>\n",
       "      <td>0.0</td>\n",
       "      <td>0.0</td>\n",
       "      <td>0.0</td>\n",
       "      <td>1.0</td>\n",
       "      <td>0.0</td>\n",
       "      <td>0.0</td>\n",
       "      <td>0.0</td>\n",
       "      <td>0.0</td>\n",
       "    </tr>\n",
       "    <tr>\n",
       "      <th>12.0</th>\n",
       "      <td>0.0</td>\n",
       "      <td>0.0</td>\n",
       "      <td>0.0</td>\n",
       "      <td>0.0</td>\n",
       "      <td>0.0</td>\n",
       "      <td>0.0</td>\n",
       "      <td>0.0</td>\n",
       "      <td>2.0</td>\n",
       "      <td>0.0</td>\n",
       "      <td>0.0</td>\n",
       "      <td>0.0</td>\n",
       "      <td>0.0</td>\n",
       "      <td>0.0</td>\n",
       "      <td>0.0</td>\n",
       "      <td>0.0</td>\n",
       "      <td>0.0</td>\n",
       "      <td>0.0</td>\n",
       "      <td>0.0</td>\n",
       "    </tr>\n",
       "    <tr>\n",
       "      <th>13.0</th>\n",
       "      <td>0.0</td>\n",
       "      <td>0.0</td>\n",
       "      <td>1.0</td>\n",
       "      <td>0.0</td>\n",
       "      <td>0.0</td>\n",
       "      <td>0.0</td>\n",
       "      <td>0.0</td>\n",
       "      <td>0.0</td>\n",
       "      <td>0.0</td>\n",
       "      <td>0.0</td>\n",
       "      <td>0.0</td>\n",
       "      <td>0.0</td>\n",
       "      <td>0.0</td>\n",
       "      <td>0.0</td>\n",
       "      <td>0.0</td>\n",
       "      <td>0.0</td>\n",
       "      <td>0.0</td>\n",
       "      <td>0.0</td>\n",
       "    </tr>\n",
       "    <tr>\n",
       "      <th>14.0</th>\n",
       "      <td>0.0</td>\n",
       "      <td>0.0</td>\n",
       "      <td>0.0</td>\n",
       "      <td>0.0</td>\n",
       "      <td>0.0</td>\n",
       "      <td>0.0</td>\n",
       "      <td>0.0</td>\n",
       "      <td>0.0</td>\n",
       "      <td>1.0</td>\n",
       "      <td>0.0</td>\n",
       "      <td>0.0</td>\n",
       "      <td>0.0</td>\n",
       "      <td>0.0</td>\n",
       "      <td>0.0</td>\n",
       "      <td>0.0</td>\n",
       "      <td>0.0</td>\n",
       "      <td>0.0</td>\n",
       "      <td>0.0</td>\n",
       "    </tr>\n",
       "    <tr>\n",
       "      <th>15.0</th>\n",
       "      <td>0.0</td>\n",
       "      <td>0.0</td>\n",
       "      <td>0.0</td>\n",
       "      <td>0.0</td>\n",
       "      <td>0.0</td>\n",
       "      <td>0.0</td>\n",
       "      <td>0.0</td>\n",
       "      <td>1.0</td>\n",
       "      <td>0.0</td>\n",
       "      <td>0.0</td>\n",
       "      <td>0.0</td>\n",
       "      <td>0.0</td>\n",
       "      <td>0.0</td>\n",
       "      <td>0.0</td>\n",
       "      <td>0.0</td>\n",
       "      <td>0.0</td>\n",
       "      <td>0.0</td>\n",
       "      <td>0.0</td>\n",
       "    </tr>\n",
       "  </tbody>\n",
       "</table>\n",
       "</div>"
      ],
      "text/plain": [
       "               140.0  1600.0  653.0  1224.0  395.0  859.0  1698.0  1482.0  \\\n",
       "transactionid                                                               \n",
       "10.0             1.0     0.0    0.0     0.0    0.0    0.0     0.0     0.0   \n",
       "11.0             0.0     0.0    0.0     0.0    0.0    0.0     0.0     0.0   \n",
       "12.0             0.0     0.0    0.0     0.0    0.0    0.0     0.0     2.0   \n",
       "13.0             0.0     0.0    1.0     0.0    0.0    0.0     0.0     0.0   \n",
       "14.0             0.0     0.0    0.0     0.0    0.0    0.0     0.0     0.0   \n",
       "15.0             0.0     0.0    0.0     0.0    0.0    0.0     0.0     1.0   \n",
       "\n",
       "               1532.0  250.0  679.0  791.0  1579.0  1490.0  803.0  378.0  \\\n",
       "transactionid                                                              \n",
       "10.0              0.0    0.0    0.0    0.0     0.0     0.0    0.0    0.0   \n",
       "11.0              0.0    0.0    0.0    0.0     0.0     1.0    0.0    0.0   \n",
       "12.0              0.0    0.0    0.0    0.0     0.0     0.0    0.0    0.0   \n",
       "13.0              0.0    0.0    0.0    0.0     0.0     0.0    0.0    0.0   \n",
       "14.0              1.0    0.0    0.0    0.0     0.0     0.0    0.0    0.0   \n",
       "15.0              0.0    0.0    0.0    0.0     0.0     0.0    0.0    0.0   \n",
       "\n",
       "               1452.0  431.0  \n",
       "transactionid                 \n",
       "10.0              0.0    0.0  \n",
       "11.0              0.0    0.0  \n",
       "12.0              0.0    0.0  \n",
       "13.0              0.0    0.0  \n",
       "14.0              0.0    0.0  \n",
       "15.0              0.0    0.0  "
      ]
     },
     "execution_count": 26,
     "metadata": {},
     "output_type": "execute_result"
    }
   ],
   "source": [
    "frequency_table[10:15]"
   ]
  },
  {
   "cell_type": "code",
   "execution_count": 8,
   "metadata": {},
   "outputs": [],
   "source": [
    "factor_table_sample = factor_table[:10000]"
   ]
  },
  {
   "cell_type": "code",
   "execution_count": 3,
   "metadata": {},
   "outputs": [
    {
     "data": {
      "text/plain": [
       "(17313, 18)"
      ]
     },
     "execution_count": 3,
     "metadata": {},
     "output_type": "execute_result"
    }
   ],
   "source": [
    "factor_table.shape"
   ]
  },
  {
   "cell_type": "code",
   "execution_count": 16,
   "metadata": {},
   "outputs": [
    {
     "name": "stdout",
     "output_type": "stream",
     "text": [
      "ERROR! Session/line number was not unique in database. History logging moved to new session 170\n"
     ]
    },
    {
     "data": {
      "text/plain": [
       "(315, 18)"
      ]
     },
     "execution_count": 16,
     "metadata": {},
     "output_type": "execute_result"
    }
   ],
   "source": [
    "frequency_table.drop_duplicates().shape"
   ]
  },
  {
   "cell_type": "code",
   "execution_count": 15,
   "metadata": {},
   "outputs": [
    {
     "data": {
      "text/plain": [
       "(121, 18)"
      ]
     },
     "execution_count": 15,
     "metadata": {},
     "output_type": "execute_result"
    }
   ],
   "source": [
    "a = factor_table.drop_duplicates()\n",
    "a.shape"
   ]
  },
  {
   "cell_type": "markdown",
   "metadata": {},
   "source": [
    "### K-Means Clustering"
   ]
  },
  {
   "cell_type": "code",
   "execution_count": 76,
   "metadata": {},
   "outputs": [],
   "source": [
    "from sklearn.cluster import KMeans\n",
    "from sklearn import metrics\n",
    "from sklearn.decomposition import PCA\n",
    "from sklearn.metrics import silhouette_score"
   ]
  },
  {
   "cell_type": "code",
   "execution_count": 8,
   "metadata": {},
   "outputs": [],
   "source": [
    "Nc = range(120,125)\n",
    "kmeans = [KMeans(n_clusters=i) for i in Nc]"
   ]
  },
  {
   "cell_type": "code",
   "execution_count": 10,
   "metadata": {},
   "outputs": [],
   "source": [
    "sse1 = [kmeans[i].fit(factor_table).inertia_ for i in range(len(kmeans))]\n",
    "#sse2 = [kmeans[i].fit(frequency_table).inertia_ for i in range(len(kmeans))]"
   ]
  },
  {
   "cell_type": "code",
   "execution_count": 51,
   "metadata": {},
   "outputs": [
    {
     "data": {
      "text/plain": [
       "KMeans(algorithm='auto', copy_x=True, init='k-means++', max_iter=300,\n",
       "    n_clusters=74, n_init=10, n_jobs=1, precompute_distances='auto',\n",
       "    random_state=None, tol=0.0001, verbose=0)"
      ]
     },
     "execution_count": 51,
     "metadata": {},
     "output_type": "execute_result"
    }
   ],
   "source": [
    "#kmeans[1]"
   ]
  },
  {
   "cell_type": "markdown",
   "metadata": {},
   "source": [
    "#### Using Euclidean Distance"
   ]
  },
  {
   "cell_type": "code",
   "execution_count": 11,
   "metadata": {},
   "outputs": [
    {
     "data": {
      "image/png": "[encoded data removed]",
      "text/plain": [
       "<matplotlib.figure.Figure at 0x7f026055d2d0>"
      ]
     },
     "metadata": {},
     "output_type": "display_data"
    }
   ],
   "source": [
    "plt.plot(Nc,sse1);\n",
    "#plt.plot(Nc,sse2);\n",
    "plt.xlabel(\"Number of clusters\");\n",
    "plt.ylabel(\"Sum squared errors\");\n",
    "plt.title(\"Elbow Curve of factor table\");\n",
    "plt.xticks(range(120,125));\n",
    "plt.grid();"
   ]
  },
  {
   "cell_type": "code",
   "execution_count": 47,
   "metadata": {},
   "outputs": [
    {
     "data": {
      "image/png": "[encoded data removed]",
      "text/plain": [
       "<matplotlib.figure.Figure at 0x7f138ee52590>"
      ]
     },
     "metadata": {},
     "output_type": "display_data"
    }
   ],
   "source": [
    "plt.plot(Nc,sse2);\n",
    "#plt.plot(Nc,sse2);\n",
    "plt.xlabel(\"Number of clusters\");\n",
    "plt.ylabel(\"Sum squared errors\");\n",
    "plt.title(\"Elbow Curve of frequency table\");\n",
    "plt.xticks(range(100,120));\n",
    "plt.grid();\n"
   ]
  },
  {
   "cell_type": "code",
   "execution_count": 39,
   "metadata": {},
   "outputs": [
    {
     "data": {
      "text/plain": [
       "(213.81836969634674, 2882.0448060269064)"
      ]
     },
     "execution_count": 39,
     "metadata": {},
     "output_type": "execute_result"
    }
   ],
   "source": [
    "(sse1[19], sse2[19])\n",
    "#len(sse1)"
   ]
  },
  {
   "cell_type": "code",
   "execution_count": 39,
   "metadata": {},
   "outputs": [
    {
     "data": {
      "text/plain": [
       "312.1424981603218"
      ]
     },
     "execution_count": 39,
     "metadata": {},
     "output_type": "execute_result"
    }
   ],
   "source": [
    "#find_inertia(kmeans[10].cluster_centers_, kmeans[10].labels_, factor_table_sample.values)"
   ]
  },
  {
   "cell_type": "code",
   "execution_count": 52,
   "metadata": {},
   "outputs": [
    {
     "data": {
      "text/plain": [
       "0.9926500612494896"
      ]
     },
     "execution_count": 52,
     "metadata": {},
     "output_type": "execute_result"
    }
   ],
   "source": [
    "metrics.silhouette_score(factor_table_sample, kmeans[4].labels_, metric='euclidean')"
   ]
  },
  {
   "cell_type": "markdown",
   "metadata": {},
   "source": [
    "#### Using Hamming's distance"
   ]
  },
  {
   "cell_type": "code",
   "execution_count": null,
   "metadata": {},
   "outputs": [],
   "source": []
  },
  {
   "cell_type": "markdown",
   "metadata": {},
   "source": [
    "### Mean shift"
   ]
  },
  {
   "cell_type": "code",
   "execution_count": 62,
   "metadata": {},
   "outputs": [],
   "source": [
    "from sklearn.cluster import MeanShift, estimate_bandwidth"
   ]
  },
  {
   "cell_type": "code",
   "execution_count": 64,
   "metadata": {},
   "outputs": [
    {
     "data": {
      "text/plain": [
       "99"
      ]
     },
     "execution_count": 64,
     "metadata": {},
     "output_type": "execute_result"
    }
   ],
   "source": [
    "ms = MeanShift().fit(factor_table_sample)\n",
    "labels = ms.labels_\n",
    "#cluster_centers = ms.cluster_centers_\n",
    "labels_unique = np.unique(labels)\n",
    "n_clusters_ = len(labels_unique)\n",
    "n_clusters_"
   ]
  },
  {
   "cell_type": "code",
   "execution_count": 18,
   "metadata": {},
   "outputs": [
    {
     "data": {
      "text/plain": [
       "(315, 18)"
      ]
     },
     "execution_count": 18,
     "metadata": {},
     "output_type": "execute_result"
    }
   ],
   "source": [
    "frequency_table.drop_duplicates().shape"
   ]
  },
  {
   "cell_type": "code",
   "execution_count": 17,
   "metadata": {},
   "outputs": [
    {
     "data": {
      "text/plain": [
       "104"
      ]
     },
     "execution_count": 17,
     "metadata": {},
     "output_type": "execute_result"
    }
   ],
   "source": [
    "ms2 = MeanShift().fit(frequency_table)\n",
    "labels2 = ms2.labels_\n",
    "#cluster_centers = ms.cluster_centers_\n",
    "labels_unique2 = np.unique(labels2)\n",
    "n_clusters2_ = len(labels_unique2)\n",
    "n_clusters2_"
   ]
  },
  {
   "cell_type": "code",
   "execution_count": 31,
   "metadata": {},
   "outputs": [
    {
     "data": {
      "text/plain": [
       "{'bandwidth': None,\n",
       " 'bin_seeding': False,\n",
       " 'cluster_all': True,\n",
       " 'min_bin_freq': 1,\n",
       " 'n_jobs': 1,\n",
       " 'seeds': None}"
      ]
     },
     "execution_count": 31,
     "metadata": {},
     "output_type": "execute_result"
    }
   ],
   "source": [
    "ms2.get_params()"
   ]
  },
  {
   "cell_type": "code",
   "execution_count": 27,
   "metadata": {},
   "outputs": [],
   "source": [
    "def find_inertia(centres, labels, data):\n",
    "    '''Function to compute inertia or sse from cluster centres, labels and data points (all inpython list format)'''\n",
    "    sse = 0.0\n",
    "    for i in xrange(len(data)):\n",
    "        vec_diff = data[i] - centres[labels[i]]\n",
    "        norm  = np.linalg.norm(vec_diff)\n",
    "        sse = sse + norm**2\n",
    "    return sse"
   ]
  },
  {
   "cell_type": "code",
   "execution_count": 40,
   "metadata": {},
   "outputs": [
    {
     "data": {
      "text/plain": [
       "312.1424981603166"
      ]
     },
     "execution_count": 40,
     "metadata": {},
     "output_type": "execute_result"
    }
   ],
   "source": []
  },
  {
   "cell_type": "code",
   "execution_count": 28,
   "metadata": {},
   "outputs": [
    {
     "data": {
      "text/plain": [
       "0.0"
      ]
     },
     "execution_count": 28,
     "metadata": {},
     "output_type": "execute_result"
    }
   ],
   "source": [
    "find_inertia(ms.cluster_centers_, ms.labels_, factor_table.values)"
   ]
  },
  {
   "cell_type": "code",
   "execution_count": 29,
   "metadata": {},
   "outputs": [
    {
     "data": {
      "text/plain": [
       "3891.978233412058"
      ]
     },
     "execution_count": 29,
     "metadata": {},
     "output_type": "execute_result"
    }
   ],
   "source": [
    "find_inertia(ms2.cluster_centers_, ms2.labels_, frequency_table.values)"
   ]
  },
  {
   "cell_type": "code",
   "execution_count": 24,
   "metadata": {},
   "outputs": [
    {
     "data": {
      "text/plain": [
       "0.9924"
      ]
     },
     "execution_count": 24,
     "metadata": {},
     "output_type": "execute_result"
    }
   ],
   "source": [
    "metrics.silhouette_score(factor_table, ms.labels_, metric='euclidean', sample_size=5000)"
   ]
  },
  {
   "cell_type": "code",
   "execution_count": 25,
   "metadata": {},
   "outputs": [
    {
     "data": {
      "text/plain": [
       "0.7245941571319652"
      ]
     },
     "execution_count": 25,
     "metadata": {},
     "output_type": "execute_result"
    }
   ],
   "source": [
    "metrics.silhouette_score(frequency_table, ms2.labels_, metric='euclidean', sample_size=5000)"
   ]
  },
  {
   "cell_type": "markdown",
   "metadata": {},
   "source": [
    "### Spectral Clustering Algo"
   ]
  },
  {
   "cell_type": "code",
   "execution_count": 100,
   "metadata": {},
   "outputs": [],
   "source": [
    "from sklearn.cluster import SpectralClustering"
   ]
  },
  {
   "cell_type": "code",
   "execution_count": 62,
   "metadata": {},
   "outputs": [],
   "source": [
    "#clustering = [SpectralClustering(n_clusters=i) for i in Nc]"
   ]
  },
  {
   "cell_type": "code",
   "execution_count": 101,
   "metadata": {},
   "outputs": [
    {
     "name": "stderr",
     "output_type": "stream",
     "text": [
      "/home/partha/anaconda/envs/analytics_py2.7/lib/python2.7/site-packages/scipy/sparse/csgraph/_laplacian.py:72: FutureWarning: Conversion of the second argument of issubdtype from `int` to `np.signedinteger` is deprecated. In future, it will be treated as `np.int64 == np.dtype(int).type`.\n",
      "  if normed and (np.issubdtype(csgraph.dtype, int)\n"
     ]
    }
   ],
   "source": [
    "cluster = SpectralClustering(n_clusters=12).fit(factor_table_sample)"
   ]
  },
  {
   "cell_type": "code",
   "execution_count": 55,
   "metadata": {},
   "outputs": [],
   "source": [
    "#find_inertia(cluster.cluster_centers_, cluster.labels_, factor_table_sample.values)"
   ]
  },
  {
   "cell_type": "code",
   "execution_count": 66,
   "metadata": {},
   "outputs": [
    {
     "data": {
      "text/plain": [
       "array([[3.63300208e-01, 1.22197828e-01, 6.18788999e-02, 7.01987520e-02,\n",
       "        7.78830599e-02, 5.37323781e-03, 1.13820199e-02, 9.31938988e-02,\n",
       "        1.21273400e-01, 2.49595563e-02, 3.08527848e-02, 1.47330714e-02,\n",
       "        5.19990756e-04, 2.67506355e-02, 1.09775826e-03, 7.74208459e-03,\n",
       "        4.04437254e-04, 5.77767506e-05]])"
      ]
     },
     "execution_count": 66,
     "metadata": {},
     "output_type": "execute_result"
    }
   ],
   "source": [
    "sse1 = [kmeans[i].fit(factor_table) for i in range(len(kmeans))]"
   ]
  },
  {
   "cell_type": "code",
   "execution_count": 54,
   "metadata": {},
   "outputs": [],
   "source": [
    "#a = factor_table - labels.cluster_centers_\n",
    "#inertia(factor_table, labels.cluster_centers_)"
   ]
  },
  {
   "cell_type": "code",
   "execution_count": 73,
   "metadata": {},
   "outputs": [],
   "source": [
    "labels = kmeans[10].fit(factor_table)"
   ]
  },
  {
   "cell_type": "code",
   "execution_count": 80,
   "metadata": {},
   "outputs": [
    {
     "data": {
      "text/plain": [
       "921.1158576094821"
      ]
     },
     "execution_count": 80,
     "metadata": {},
     "output_type": "execute_result"
    }
   ],
   "source": [
    "labels.inertia_\n",
    "#labels.cluster_centers_"
   ]
  },
  {
   "cell_type": "code",
   "execution_count": null,
   "metadata": {},
   "outputs": [],
   "source": [
    "labels.predict(factor_table)"
   ]
  },
  {
   "cell_type": "code",
   "execution_count": 102,
   "metadata": {},
   "outputs": [
    {
     "data": {
      "text/plain": [
       "0.9175215546907343"
      ]
     },
     "execution_count": 102,
     "metadata": {},
     "output_type": "execute_result"
    }
   ],
   "source": [
    "metrics.silhouette_score(factor_table_sample, cluster.labels_, metric='euclidean')"
   ]
  },
  {
   "cell_type": "code",
   "execution_count": 103,
   "metadata": {},
   "outputs": [
    {
     "data": {
      "text/plain": [
       "0.9348443528564441"
      ]
     },
     "execution_count": 103,
     "metadata": {},
     "output_type": "execute_result"
    }
   ],
   "source": [
    "kmean[3]"
   ]
  },
  {
   "cell_type": "markdown",
   "metadata": {},
   "source": [
    "### Hierarchical Clustering"
   ]
  },
  {
   "cell_type": "code",
   "execution_count": 65,
   "metadata": {},
   "outputs": [],
   "source": [
    "nclusters = range(10, 100)"
   ]
  },
  {
   "cell_type": "code",
   "execution_count": 4,
   "metadata": {},
   "outputs": [],
   "source": [
    "from sklearn.cluster import AgglomerativeClustering\n",
    "#from sklearn.metrics import pairwise_distances"
   ]
  },
  {
   "cell_type": "code",
   "execution_count": 66,
   "metadata": {},
   "outputs": [],
   "source": [
    "dist_comp_df = pd.DataFrame(columns=[\"Euclidean\", \"Manhattan\", \"Cosine\"])"
   ]
  },
  {
   "cell_type": "code",
   "execution_count": 54,
   "metadata": {},
   "outputs": [
    {
     "data": {
      "text/plain": [
       "0"
      ]
     },
     "execution_count": 54,
     "metadata": {},
     "output_type": "execute_result"
    }
   ],
   "source": [
    "len(cosine)"
   ]
  },
  {
   "cell_type": "code",
   "execution_count": 67,
   "metadata": {},
   "outputs": [],
   "source": [
    "eucl = []\n",
    "manhattan = []\n",
    "cosine = []"
   ]
  },
  {
   "cell_type": "code",
   "execution_count": 68,
   "metadata": {},
   "outputs": [],
   "source": [
    "for n_cluster in nclusters:\n",
    "    model = AgglomerativeClustering(n_clusters=n_cluster,linkage=\"average\", affinity=\"euclidean\")\n",
    "    model.fit(factor_table_sample)\n",
    "    model2 = AgglomerativeClustering(n_clusters=n_cluster,linkage=\"average\", affinity=\"manhattan\")\n",
    "    model2.fit(factor_table_sample)\n",
    "    model3 = AgglomerativeClustering(n_clusters=n_cluster,linkage=\"average\", affinity=\"cosine\")\n",
    "    model3.fit(factor_table_sample)\n",
    "    eucl.append(metrics.silhouette_score(factor_table_sample, model.labels_, metric='euclidean'))\n",
    "    manhattan.append(metrics.silhouette_score(factor_table_sample, model2.labels_, metric='manhattan'))\n",
    "    cosine.append(metrics.silhouette_score(factor_table_sample, model3.labels_, metric='cosine'))"
   ]
  },
  {
   "cell_type": "code",
   "execution_count": 69,
   "metadata": {},
   "outputs": [],
   "source": [
    "dist_comp_df.Euclidean = eucl\n",
    "dist_comp_df.Manhattan = manhattan\n",
    "dist_comp_df.Cosine = cosine"
   ]
  },
  {
   "cell_type": "code",
   "execution_count": 59,
   "metadata": {},
   "outputs": [
    {
     "data": {
      "text/html": [
       "<div>\n",
       "<style>\n",
       "    .dataframe thead tr:only-child th {\n",
       "        text-align: right;\n",
       "    }\n",
       "\n",
       "    .dataframe thead th {\n",
       "        text-align: left;\n",
       "    }\n",
       "\n",
       "    .dataframe tbody tr th {\n",
       "        vertical-align: top;\n",
       "    }\n",
       "</style>\n",
       "<table border=\"1\" class=\"dataframe\">\n",
       "  <thead>\n",
       "    <tr style=\"text-align: right;\">\n",
       "      <th></th>\n",
       "      <th>Euclidean</th>\n",
       "      <th>Manhattan</th>\n",
       "      <th>Cosine</th>\n",
       "    </tr>\n",
       "  </thead>\n",
       "  <tbody>\n",
       "    <tr>\n",
       "      <th>0</th>\n",
       "      <td>0.956752</td>\n",
       "      <td>0.958529</td>\n",
       "      <td>0.960526</td>\n",
       "    </tr>\n",
       "    <tr>\n",
       "      <th>1</th>\n",
       "      <td>0.959763</td>\n",
       "      <td>0.961421</td>\n",
       "      <td>0.965827</td>\n",
       "    </tr>\n",
       "    <tr>\n",
       "      <th>2</th>\n",
       "      <td>0.959861</td>\n",
       "      <td>0.961203</td>\n",
       "      <td>0.971831</td>\n",
       "    </tr>\n",
       "    <tr>\n",
       "      <th>3</th>\n",
       "      <td>0.961955</td>\n",
       "      <td>0.963152</td>\n",
       "      <td>0.973976</td>\n",
       "    </tr>\n",
       "    <tr>\n",
       "      <th>4</th>\n",
       "      <td>0.964364</td>\n",
       "      <td>0.965410</td>\n",
       "      <td>0.973982</td>\n",
       "    </tr>\n",
       "    <tr>\n",
       "      <th>5</th>\n",
       "      <td>0.970816</td>\n",
       "      <td>0.971751</td>\n",
       "      <td>0.974255</td>\n",
       "    </tr>\n",
       "    <tr>\n",
       "      <th>6</th>\n",
       "      <td>0.970878</td>\n",
       "      <td>0.971788</td>\n",
       "      <td>0.976840</td>\n",
       "    </tr>\n",
       "    <tr>\n",
       "      <th>7</th>\n",
       "      <td>0.975100</td>\n",
       "      <td>0.975795</td>\n",
       "      <td>0.977302</td>\n",
       "    </tr>\n",
       "    <tr>\n",
       "      <th>8</th>\n",
       "      <td>0.975476</td>\n",
       "      <td>0.975930</td>\n",
       "      <td>0.977349</td>\n",
       "    </tr>\n",
       "    <tr>\n",
       "      <th>9</th>\n",
       "      <td>0.980888</td>\n",
       "      <td>0.981285</td>\n",
       "      <td>0.977916</td>\n",
       "    </tr>\n",
       "  </tbody>\n",
       "</table>\n",
       "</div>"
      ],
      "text/plain": [
       "   Euclidean  Manhattan    Cosine\n",
       "0   0.956752   0.958529  0.960526\n",
       "1   0.959763   0.961421  0.965827\n",
       "2   0.959861   0.961203  0.971831\n",
       "3   0.961955   0.963152  0.973976\n",
       "4   0.964364   0.965410  0.973982\n",
       "5   0.970816   0.971751  0.974255\n",
       "6   0.970878   0.971788  0.976840\n",
       "7   0.975100   0.975795  0.977302\n",
       "8   0.975476   0.975930  0.977349\n",
       "9   0.980888   0.981285  0.977916"
      ]
     },
     "execution_count": 59,
     "metadata": {},
     "output_type": "execute_result"
    }
   ],
   "source": [
    "dist_comp_df"
   ]
  },
  {
   "cell_type": "code",
   "execution_count": 73,
   "metadata": {},
   "outputs": [],
   "source": [
    "%matplotlib inline"
   ]
  },
  {
   "cell_type": "code",
   "execution_count": 74,
   "metadata": {},
   "outputs": [
    {
     "data": {
      "image/png": "[encoded data removed]",
      "text/plain": [
       "<matplotlib.figure.Figure at 0x7f416261f5d0>"
      ]
     },
     "metadata": {},
     "output_type": "display_data"
    }
   ],
   "source": [
    "fig, ax = plt.subplots()\n",
    "\n",
    "ax.plot(nclusters, dist_comp_df.Euclidean, 'r', label='Euclidean')\n",
    "ax.plot(nclusters, dist_comp_df.Manhattan, 'b', label='Manhattan')\n",
    "ax.plot(nclusters, dist_comp_df.Cosine, 'g', label='Cosine')\n",
    "#ax.axis('equal')\n",
    "leg = ax.legend();\n",
    "ax.set_xlabel(\"Cluster Size\")\n",
    "ax.set_ylabel(\"Silhoutte score\")\n",
    "ax.set_title(\"Comparison of Silhoutte score\");\n",
    "fig.show();"
   ]
  },
  {
   "cell_type": "code",
   "execution_count": 56,
   "metadata": {},
   "outputs": [],
   "source": [
    "#Comparison across models"
   ]
  },
  {
   "cell_type": "code",
   "execution_count": 77,
   "metadata": {},
   "outputs": [],
   "source": [
    "eucl = []\n",
    "manhattan = []\n",
    "cosine = []\n",
    "kmean = []"
   ]
  },
  {
   "cell_type": "code",
   "execution_count": 80,
   "metadata": {},
   "outputs": [],
   "source": [
    "for n_cluster in nclusters:\n",
    "    #model = AgglomerativeClustering(n_clusters=n_cluster,linkage=\"average\", affinity=\"euclidean\")\n",
    "    #model.fit(factor_table_sample)\n",
    "    model2 = AgglomerativeClustering(n_clusters=n_cluster,linkage=\"average\", affinity=\"manhattan\")\n",
    "    model2.fit(factor_table_sample)\n",
    "    model3 = AgglomerativeClustering(n_clusters=n_cluster,linkage=\"average\", affinity=\"cosine\")\n",
    "    model3.fit(factor_table_sample)\n",
    "    model4 = KMeans(n_clusters=n_cluster)\n",
    "    model4.fit(factor_table_sample)\n",
    "    kmean.append(metrics.silhouette_score(factor_table_sample, model4.labels_, metric='euclidean'))\n",
    "    manhattan.append(metrics.silhouette_score(factor_table_sample, model2.labels_, metric='manhattan'))\n",
    "    cosine.append(metrics.silhouette_score(factor_table_sample, model3.labels_, metric='cosine'))\n",
    "    \n",
    "    "
   ]
  },
  {
   "cell_type": "code",
   "execution_count": 94,
   "metadata": {},
   "outputs": [],
   "source": [
    "df = pd.DataFrame()"
   ]
  },
  {
   "cell_type": "code",
   "execution_count": 91,
   "metadata": {},
   "outputs": [
    {
     "data": {
      "text/plain": [
       "90"
      ]
     },
     "execution_count": 91,
     "metadata": {},
     "output_type": "execute_result"
    }
   ],
   "source": [
    "len(manhattan[len(manhattan)-90:])"
   ]
  },
  {
   "cell_type": "code",
   "execution_count": 95,
   "metadata": {},
   "outputs": [],
   "source": [
    "#dist_comp_df.Euclidean = eucl\n",
    "df[\"Manhattan_Agglo\"] = manhattan[len(manhattan)-90:]\n",
    "df[\"Cosine_Agglo\"] = cosine[len(cosine)-90:]\n",
    "df[\"KMean\"] = kmean"
   ]
  },
  {
   "cell_type": "code",
   "execution_count": 98,
   "metadata": {},
   "outputs": [
    {
     "data": {
      "image/png": "[encoded data removed]",
      "text/plain": [
       "<matplotlib.figure.Figure at 0x7f41621ede90>"
      ]
     },
     "metadata": {},
     "output_type": "display_data"
    }
   ],
   "source": [
    "fig, ax = plt.subplots()\n",
    "\n",
    "#ax.plot(nclusters, dist_comp_df.Euclidean, 'r', label='Euclidean')\n",
    "ax.plot(nclusters, df.Manhattan_Agglo, 'b', label='Manhattan')\n",
    "ax.plot(nclusters, df.Cosine_Agglo, 'g', label='Cosine')\n",
    "ax.plot(nclusters, df.KMean, '--r', label='KMean')\n",
    "#ax.axis('equal')\n",
    "leg = ax.legend();\n",
    "ax.set_xlabel(\"Cluster Size\")\n",
    "ax.set_ylabel(\"Silhoutte score\")\n",
    "ax.set_title(\"Comparison of Silhoutte score\");\n",
    "fig.show();"
   ]
  },
  {
   "cell_type": "markdown",
   "metadata": {},
   "source": [
    "### Inferencing"
   ]
  },
  {
   "cell_type": "code",
   "execution_count": null,
   "metadata": {},
   "outputs": [],
   "source": [
    "kmeans = np.array(KMeans(n_clusters=12).fit_predict(factor_table))\n",
    "cluster_freq = {}\n",
    "for x in range(12):\n",
    "    cluster_freq[x] = (kmeans == x).sum()"
   ]
  },
  {
   "cell_type": "code",
   "execution_count": null,
   "metadata": {},
   "outputs": [],
   "source": [
    "sns.barplot(x=cluster_freq.keys(),y=cluster_freq.values());\n",
    "plt.xlabel(\"Cluster number\");\n",
    "plt.ylabel(\"Number of baskets in the cluster\");"
   ]
  }
 ],
 "metadata": {
  "kernelspec": {
   "display_name": "Python 2",
   "language": "python",
   "name": "python2"
  },
  "language_info": {
   "codemirror_mode": {
    "name": "ipython",
    "version": 2
   },
   "file_extension": ".py",
   "mimetype": "text/x-python",
   "name": "python",
   "nbconvert_exporter": "python",
   "pygments_lexer": "ipython2",
   "version": "2.7.13"
  }
 },
 "nbformat": 4,
 "nbformat_minor": 2
}
